{
  "nbformat": 4,
  "nbformat_minor": 0,
  "metadata": {
    "colab": {
      "provenance": []
    },
    "kernelspec": {
      "name": "python3",
      "display_name": "Python 3"
    },
    "language_info": {
      "name": "python"
    }
  },
  "cells": [
    {
      "cell_type": "markdown",
      "source": [
        "# **HERRAMIENTAS BÁSICAS PARA EL ANÁLISIS DE DATOS**\n",
        "\n",
        "**OPEN CLASS - TALLER**"
      ],
      "metadata": {
        "id": "xW9Z5AjEfjHu"
      }
    },
    {
      "cell_type": "markdown",
      "source": [
        "Se tiene un archivo de calificaciones de una asignatura.\n",
        "El archivo consta de un número específico de líneas, en cada uno está registrado:\n",
        "\n",
        "\n",
        "*   Nombre del Estudiante\n",
        "*   Cuatro calificaciones diferentes del curso.\n",
        "\n",
        "Las todos los campos están separados por comas.\n",
        "\n",
        "***Acciones***\n",
        "\n",
        "Leer el archivo de solo lectura, linea por línea, eliminando el salto de página.\n",
        "\n",
        "Guardar los componentes de cada línea en listas separadas, una por cada estudiante. Deben quedar el nombre del estudiante, separado por coma de las notas y del último espacio en blanco.\n",
        "\n",
        "En cada lista resultante, eliminar el espacio en blanco que quede al final.\n",
        "\n",
        "Convertir cada cadena de números reales (calificaciones con . decimal) en tipo flotante.\n",
        "\n",
        "Crear una nueva lista por cada estudiante que contenga el nombre, su  promedio, su calificación máxima y mínima.\n",
        "\n",
        "Crear una lista matricial que contenga todas las listas anteriores. Es decir, una lista de listas.\n",
        "\n",
        "Imprimir de la lista anterior los nombres de los estudiantes y sus calificaciones promedio, máximo y mínimo.\n",
        "\n",
        "Obtener la nota máxima, mínima y promedio del curso. Imprimir los nombres de los estudiantes con las notas máxima y mínima."
      ],
      "metadata": {
        "id": "MJdcqyNYgQb_"
      }
    },
    {
      "cell_type": "markdown",
      "source": [
        "# **Desarrollo de acciones**"
      ],
      "metadata": {
        "id": "LNxM6J9x7I6X"
      }
    },
    {
      "cell_type": "markdown",
      "source": [
        "## **Practica:**\n",
        "\n",
        "Se considera reprobado la calificación que esté por debajo de 3.0.\n",
        "1. Obtener el porcentaje de estudiantes que aprobaron la asignatura.\n",
        "2. Obtener el porcentaje de estudiantes que reprobaron la asignatura.\n",
        "3. Obtener el promedio de calificaciones aprobadas\n",
        "4. Obtener el promedio de calificaciones reprobadas"
      ],
      "metadata": {
        "id": "-v3jBP8Ke4zL"
      }
    },
    {
      "cell_type": "markdown",
      "source": [
        "**1. Leer el archivo de solo lectura, linea por línea, eliminando el salto de línea**.\n",
        "<!--\n",
        "ar = open('Notas2.txt', 'r')\n",
        "for linea in ar:\n",
        "  linea = linea.rstrip()\n",
        "  print(linea)\n",
        "ar.close()\n",
        "-->"
      ],
      "metadata": {
        "id": "RT-2G5gRjLKC"
      }
    },
    {
      "cell_type": "code",
      "source": [
        "# Se lee el archivo completo iterando sobre este con un for. Se muestra la lista completa\n",
        "# Se elimina el salto de línea \\n\n",
        "ar = open('Notas2.txt', 'r')\n",
        "for linea in ar:\n",
        "  linea = linea.rstrip()\n",
        "  print(linea)\n",
        "ar.close()"
      ],
      "metadata": {
        "id": "PdVT11q3IYXi",
        "colab": {
          "base_uri": "https://localhost:8080/"
        },
        "outputId": "3e04546d-d014-4d64-900b-64cab5549c9f"
      },
      "execution_count": null,
      "outputs": [
        {
          "output_type": "stream",
          "name": "stdout",
          "text": [
            "﻿Estudiante,Nota 1,Nota 2,Nota 3,Nota 4,\n",
            "Arias Rua  Jonathan E.,2.0,2.2,2.0,2.2,\n",
            "Bernal Bernal  Nicolas,1.1,2.7,2.0,1.5,\n",
            "Blanco Amador  Isaac A.,2.7,4.4,1.5,2.9,\n",
            "Borja Serrano  Jorge A.,1.5,2.6,2.0,1.8,\n",
            "Cabrera Solano  Alvaro J.,3.1,2.8,4.5,1.5,\n",
            "Cantillo Arrieta  Dylan S.,3.2,4.8,2.5,5.0,\n",
            "Cespedes Jimenez  Camilo A.,4.5,4.5,1.5,2.9,\n",
            "Cuesta Niebles  Isabella A.,3.0,4.2,3.5,2.2,\n",
            "De Lima Correa  Felipe A.,3.0,4.3,2.5,5.0,\n",
            "Diaz De Moya  David E.,3.9,3.8,2.0,2.9,\n",
            "Evilla Rodriguez  Luis F.,3.1,1.8,3.5,2.2,\n",
            "Fajardo Hernandez  Freddy A.,1.0,1.7,2.0,2.9,\n",
            "Figueroa Caguana  Alex E.,4.3,3.5,4.4,2.2,\n"
          ]
        }
      ]
    },
    {
      "cell_type": "markdown",
      "source": [
        "**2. Guardar los componentes de cada línea en listas separadas, una por cada estudiante. Deben quedar el nombre del estudiante, separado por coma de las notas y del último espacio en blanco.**\n",
        "<!--\n",
        "ar = open('Notas2.txt', 'r')\n",
        "lin = ar.readline()\n",
        "for linea in ar:\n",
        "  linea = linea.rstrip()\n",
        "  print(linea)\n",
        "  estud = linea.split(',')\n",
        "  print(estud)\n",
        "ar.close()\n",
        "-->"
      ],
      "metadata": {
        "id": "JxSlU5eZlr7V"
      }
    },
    {
      "cell_type": "code",
      "source": [
        "# Se lee el archivo completo y se muestran los  componentes de cada linea en una lista. Se observa el espacio en blanco al final\n",
        "# Se elimina el encabezado\n",
        "ar = open('Notas2.txt', 'r')\n",
        "lin = ar.readline()\n",
        "for linea in ar:\n",
        "  linea = linea.rstrip()\n",
        "  print(linea)\n",
        "  estud = linea.split(',')\n",
        "  print(estud)\n",
        "ar.close()"
      ],
      "metadata": {
        "id": "rNBoZxReIw3g",
        "colab": {
          "base_uri": "https://localhost:8080/"
        },
        "outputId": "12abab29-afb7-4cb1-8c30-f3ad5f100e4c"
      },
      "execution_count": null,
      "outputs": [
        {
          "output_type": "stream",
          "name": "stdout",
          "text": [
            "Arias Rua  Jonathan E.,2.0,2.2,2.0,2.2,\n",
            "['Arias Rua  Jonathan E.', '2.0', '2.2', '2.0', '2.2', '']\n",
            "Bernal Bernal  Nicolas,1.1,2.7,2.0,1.5,\n",
            "['Bernal Bernal  Nicolas', '1.1', '2.7', '2.0', '1.5', '']\n",
            "Blanco Amador  Isaac A.,2.7,4.4,1.5,2.9,\n",
            "['Blanco Amador  Isaac A.', '2.7', '4.4', '1.5', '2.9', '']\n",
            "Borja Serrano  Jorge A.,1.5,2.6,2.0,1.8,\n",
            "['Borja Serrano  Jorge A.', '1.5', '2.6', '2.0', '1.8', '']\n",
            "Cabrera Solano  Alvaro J.,3.1,2.8,4.5,1.5,\n",
            "['Cabrera Solano  Alvaro J.', '3.1', '2.8', '4.5', '1.5', '']\n",
            "Cantillo Arrieta  Dylan S.,3.2,4.8,2.5,5.0,\n",
            "['Cantillo Arrieta  Dylan S.', '3.2', '4.8', '2.5', '5.0', '']\n",
            "Cespedes Jimenez  Camilo A.,4.5,4.5,1.5,2.9,\n",
            "['Cespedes Jimenez  Camilo A.', '4.5', '4.5', '1.5', '2.9', '']\n",
            "Cuesta Niebles  Isabella A.,3.0,4.2,3.5,2.2,\n",
            "['Cuesta Niebles  Isabella A.', '3.0', '4.2', '3.5', '2.2', '']\n",
            "De Lima Correa  Felipe A.,3.0,4.3,2.5,5.0,\n",
            "['De Lima Correa  Felipe A.', '3.0', '4.3', '2.5', '5.0', '']\n",
            "Diaz De Moya  David E.,3.9,3.8,2.0,2.9,\n",
            "['Diaz De Moya  David E.', '3.9', '3.8', '2.0', '2.9', '']\n",
            "Evilla Rodriguez  Luis F.,3.1,1.8,3.5,2.2,\n",
            "['Evilla Rodriguez  Luis F.', '3.1', '1.8', '3.5', '2.2', '']\n",
            "Fajardo Hernandez  Freddy A.,1.0,1.7,2.0,2.9,\n",
            "['Fajardo Hernandez  Freddy A.', '1.0', '1.7', '2.0', '2.9', '']\n",
            "Figueroa Caguana  Alex E.,4.3,3.5,4.4,2.2,\n",
            "['Figueroa Caguana  Alex E.', '4.3', '3.5', '4.4', '2.2', '']\n"
          ]
        }
      ]
    },
    {
      "cell_type": "markdown",
      "source": [
        "**3. En cada lista resultante, eliminar el espacio en blanco que quede al final.**\n",
        "<!--\n",
        "ar = open('Notas2.txt', 'r')\n",
        "lin = ar.readline()\n",
        "for linea in ar:\n",
        "  linea = linea.rstrip()\n",
        "  #print(linea)\n",
        "  estud = linea.split(',')\n",
        "  estud.pop()\n",
        "  print(estud)\n",
        "ar.close()\n",
        "-->"
      ],
      "metadata": {
        "id": "7dz64Yv1j_Wl"
      }
    },
    {
      "cell_type": "code",
      "source": [
        "# Se lee el archivo completo  y se elimina el espacio final de cada lista\n",
        "ar = open('Notas2.txt', 'r')\n",
        "lin = ar.readline()\n",
        "for linea in ar:\n",
        "  linea = linea.rstrip()\n",
        "  #print(linea)\n",
        "  estud = linea.split(',')\n",
        "  estud.pop()\n",
        "  print(estud)\n",
        "ar.close()"
      ],
      "metadata": {
        "id": "Yv4LDN-6JLYK",
        "colab": {
          "base_uri": "https://localhost:8080/"
        },
        "outputId": "c628a265-486c-49f7-aaa1-2102fa50b256"
      },
      "execution_count": null,
      "outputs": [
        {
          "output_type": "stream",
          "name": "stdout",
          "text": [
            "['Arias Rua  Jonathan E.', '2.0', '2.2', '2.0', '2.2']\n",
            "['Bernal Bernal  Nicolas', '1.1', '2.7', '2.0', '1.5']\n",
            "['Blanco Amador  Isaac A.', '2.7', '4.4', '1.5', '2.9']\n",
            "['Borja Serrano  Jorge A.', '1.5', '2.6', '2.0', '1.8']\n",
            "['Cabrera Solano  Alvaro J.', '3.1', '2.8', '4.5', '1.5']\n",
            "['Cantillo Arrieta  Dylan S.', '3.2', '4.8', '2.5', '5.0']\n",
            "['Cespedes Jimenez  Camilo A.', '4.5', '4.5', '1.5', '2.9']\n",
            "['Cuesta Niebles  Isabella A.', '3.0', '4.2', '3.5', '2.2']\n",
            "['De Lima Correa  Felipe A.', '3.0', '4.3', '2.5', '5.0']\n",
            "['Diaz De Moya  David E.', '3.9', '3.8', '2.0', '2.9']\n",
            "['Evilla Rodriguez  Luis F.', '3.1', '1.8', '3.5', '2.2']\n",
            "['Fajardo Hernandez  Freddy A.', '1.0', '1.7', '2.0', '2.9']\n",
            "['Figueroa Caguana  Alex E.', '4.3', '3.5', '4.4', '2.2']\n"
          ]
        }
      ]
    },
    {
      "cell_type": "markdown",
      "source": [
        "**4. Convertir cada cadena de números reales (calificaciones con . decimal) en tipo flotante.**\n",
        "<!--\n",
        "ar = open('Notas2.txt', 'r')\n",
        "lin = ar.readline()\n",
        "for linea in ar:\n",
        "  linea = linea.rstrip()\n",
        "  #print(linea)\n",
        "  estud = linea.split(',')\n",
        "  estud.pop()\n",
        "  estud[1:] = [float(a) for a in estud[1:]]\n",
        "  print(estud)\n",
        "ar.close()\n",
        "-->"
      ],
      "metadata": {
        "id": "2it0Ldi3kO5E"
      }
    },
    {
      "cell_type": "code",
      "source": [
        "# Se convierten las cadenas de números a flotantes\n",
        "# Se usa comprehensión de listas\n",
        "ar = open('Notas2.txt', 'r')\n",
        "lin = ar.readline()\n",
        "for linea in ar:\n",
        "  linea = linea.rstrip()\n",
        "  #print(linea)\n",
        "  estud = linea.split(',')\n",
        "  estud.pop()\n",
        "  estud[1:] = [float(a) for a in estud[1:]]\n",
        "  print(estud)\n",
        "ar.close()"
      ],
      "metadata": {
        "id": "KWpEE9bcKU5g",
        "colab": {
          "base_uri": "https://localhost:8080/"
        },
        "outputId": "b8a1b98e-6939-4354-805b-3314f46590df"
      },
      "execution_count": null,
      "outputs": [
        {
          "output_type": "stream",
          "name": "stdout",
          "text": [
            "['Arias Rua  Jonathan E.', 2.0, 2.2, 2.0, 2.2]\n",
            "['Bernal Bernal  Nicolas', 1.1, 2.7, 2.0, 1.5]\n",
            "['Blanco Amador  Isaac A.', 2.7, 4.4, 1.5, 2.9]\n",
            "['Borja Serrano  Jorge A.', 1.5, 2.6, 2.0, 1.8]\n",
            "['Cabrera Solano  Alvaro J.', 3.1, 2.8, 4.5, 1.5]\n",
            "['Cantillo Arrieta  Dylan S.', 3.2, 4.8, 2.5, 5.0]\n",
            "['Cespedes Jimenez  Camilo A.', 4.5, 4.5, 1.5, 2.9]\n",
            "['Cuesta Niebles  Isabella A.', 3.0, 4.2, 3.5, 2.2]\n",
            "['De Lima Correa  Felipe A.', 3.0, 4.3, 2.5, 5.0]\n",
            "['Diaz De Moya  David E.', 3.9, 3.8, 2.0, 2.9]\n",
            "['Evilla Rodriguez  Luis F.', 3.1, 1.8, 3.5, 2.2]\n",
            "['Fajardo Hernandez  Freddy A.', 1.0, 1.7, 2.0, 2.9]\n",
            "['Figueroa Caguana  Alex E.', 4.3, 3.5, 4.4, 2.2]\n"
          ]
        }
      ]
    },
    {
      "cell_type": "code",
      "source": [],
      "metadata": {
        "id": "VGULVhSTEzZy"
      },
      "execution_count": null,
      "outputs": []
    },
    {
      "cell_type": "code",
      "source": [
        "def media(l):\n",
        "  return round(sum(l)/len(l),1)\n",
        "media([4,7,9])"
      ],
      "metadata": {
        "colab": {
          "base_uri": "https://localhost:8080/"
        },
        "id": "XpYDuaSWLpSM",
        "outputId": "aabdba84-cc49-4924-a29c-eb7f6b77a3fc"
      },
      "execution_count": null,
      "outputs": [
        {
          "output_type": "execute_result",
          "data": {
            "text/plain": [
              "6.7"
            ]
          },
          "metadata": {},
          "execution_count": 9
        }
      ]
    },
    {
      "cell_type": "markdown",
      "source": [
        "**5. Crear una nueva lista por cada estudiante que contenga el nombre, su promedio, su calificación máxima y mínima.**\n",
        "\n",
        "<!--\n",
        "ar = open('Notas2.txt', 'r')\n",
        "lin = ar.readline()\n",
        "for linea in ar:\n",
        "  linea = linea.rstrip()\n",
        "  #print(linea)\n",
        "  estud = linea.split(',')\n",
        "  estud.pop()\n",
        "  estud[1:] = [float(a) for a in estud[1:]]\n",
        "  print(estud)\n",
        "  resultados = []\n",
        "  resultados.append(estud[0])\n",
        "  resultados.extend([media(estud[1:]),min(estud[1:]), max(estud[1:])])\n",
        "  print(resultados)\n",
        "ar.close()\n",
        "-->"
      ],
      "metadata": {
        "id": "mEUWIvjQkenk"
      }
    },
    {
      "cell_type": "code",
      "source": [
        "# Se crea una lista de estudiantes con sus promedios, mínimo, máxima calificación\n",
        "ar = open('Notas2.txt', 'r')\n",
        "lin = ar.readline()\n",
        "for linea in ar:\n",
        "  linea = linea.rstrip()\n",
        "  #print(linea)\n",
        "  estud = linea.split(',')\n",
        "  estud.pop()\n",
        "  estud[1:] = [float(a) for a in estud[1:]]\n",
        "  print(estud)\n",
        "  resultados = []\n",
        "  resultados.append(estud[0])\n",
        "  resultados.extend([media(estud[1:]),min(estud[1:]), max(estud[1:])])\n",
        "  print(resultados)\n",
        "ar.close()"
      ],
      "metadata": {
        "id": "7qUF63BmLZos",
        "colab": {
          "base_uri": "https://localhost:8080/"
        },
        "outputId": "fe16164c-5aed-46f6-8e6c-00a1ead8847f"
      },
      "execution_count": null,
      "outputs": [
        {
          "output_type": "stream",
          "name": "stdout",
          "text": [
            "['Arias Rua  Jonathan E.', 2.0, 2.2, 2.0, 2.2]\n",
            "['Arias Rua  Jonathan E.', 2.1, 2.0, 2.2]\n",
            "['Bernal Bernal  Nicolas', 1.1, 2.7, 2.0, 1.5]\n",
            "['Bernal Bernal  Nicolas', 1.8, 1.1, 2.7]\n",
            "['Blanco Amador  Isaac A.', 2.7, 4.4, 1.5, 2.9]\n",
            "['Blanco Amador  Isaac A.', 2.9, 1.5, 4.4]\n",
            "['Borja Serrano  Jorge A.', 1.5, 2.6, 2.0, 1.8]\n",
            "['Borja Serrano  Jorge A.', 2.0, 1.5, 2.6]\n",
            "['Cabrera Solano  Alvaro J.', 3.1, 2.8, 4.5, 1.5]\n",
            "['Cabrera Solano  Alvaro J.', 3.0, 1.5, 4.5]\n",
            "['Cantillo Arrieta  Dylan S.', 3.2, 4.8, 2.5, 5.0]\n",
            "['Cantillo Arrieta  Dylan S.', 3.9, 2.5, 5.0]\n",
            "['Cespedes Jimenez  Camilo A.', 4.5, 4.5, 1.5, 2.9]\n",
            "['Cespedes Jimenez  Camilo A.', 3.4, 1.5, 4.5]\n",
            "['Cuesta Niebles  Isabella A.', 3.0, 4.2, 3.5, 2.2]\n",
            "['Cuesta Niebles  Isabella A.', 3.2, 2.2, 4.2]\n",
            "['De Lima Correa  Felipe A.', 3.0, 4.3, 2.5, 5.0]\n",
            "['De Lima Correa  Felipe A.', 3.7, 2.5, 5.0]\n",
            "['Diaz De Moya  David E.', 3.9, 3.8, 2.0, 2.9]\n",
            "['Diaz De Moya  David E.', 3.1, 2.0, 3.9]\n",
            "['Evilla Rodriguez  Luis F.', 3.1, 1.8, 3.5, 2.2]\n",
            "['Evilla Rodriguez  Luis F.', 2.7, 1.8, 3.5]\n",
            "['Fajardo Hernandez  Freddy A.', 1.0, 1.7, 2.0, 2.9]\n",
            "['Fajardo Hernandez  Freddy A.', 1.9, 1.0, 2.9]\n",
            "['Figueroa Caguana  Alex E.', 4.3, 3.5, 4.4, 2.2]\n",
            "['Figueroa Caguana  Alex E.', 3.6, 2.2, 4.4]\n"
          ]
        }
      ]
    },
    {
      "cell_type": "markdown",
      "source": [
        "**6. Crear una lista matricial que contenga todas las listas anteriores. Es decir, una lista de listas.**\n",
        "\n",
        "<!--\n",
        "ar = open('Notas2.txt', 'r')\n",
        "resultCurso = []\n",
        "lin = ar.readline()\n",
        "for linea in ar:\n",
        "  linea = linea.rstrip()\n",
        "  #print(linea)\n",
        "  estud = linea.split(',')\n",
        "  estud.pop()\n",
        "  estud[1:] = [float(a) for a in estud[1:]]\n",
        "  print(estud)\n",
        "  resultados = []\n",
        "  resultados.append(estud[0])\n",
        "  resultados.extend([media(estud[1:]),min(estud[1:]), max(estud[1:])])\n",
        "  resultCurso.append(resultados)\n",
        "  #print(resultados)\n",
        "print(resultCurso)\n",
        "ar.close()\n",
        "-->"
      ],
      "metadata": {
        "id": "4MG6QhSYk5Qx"
      }
    },
    {
      "cell_type": "code",
      "source": [
        "# Se crea una lista matricial de estudiantes con sus promedios, mínimo, máxima calificación\n",
        "ar = open('Notas2.txt', 'r')\n",
        "resultCurso = []\n",
        "lin = ar.readline()\n",
        "for linea in ar:\n",
        "  linea = linea.rstrip()\n",
        "  #print(linea)\n",
        "  estud = linea.split(',')\n",
        "  estud.pop()\n",
        "  estud[1:] = [float(a) for a in estud[1:]]\n",
        "  print(estud)\n",
        "  resultados = [estud[0], media(estud[1:]),min(estud[1:]), max(estud[1:])]\n",
        "  #resultados.append(estud[0])\n",
        "  #resultados.extend([media(estud[1:]),min(estud[1:]), max(estud[1:])])\n",
        "  resultCurso.append(resultados)\n",
        "  #print(resultados)\n",
        "print(resultCurso)\n",
        "ar.close()"
      ],
      "metadata": {
        "id": "JtcEGDyyOu10",
        "colab": {
          "base_uri": "https://localhost:8080/"
        },
        "outputId": "80091862-60a1-4614-86ef-e791c15e97a2"
      },
      "execution_count": null,
      "outputs": [
        {
          "output_type": "stream",
          "name": "stdout",
          "text": [
            "['Arias Rua  Jonathan E.', 2.0, 2.2, 2.0, 2.2]\n",
            "['Bernal Bernal  Nicolas', 1.1, 2.7, 2.0, 1.5]\n",
            "['Blanco Amador  Isaac A.', 2.7, 4.4, 1.5, 2.9]\n",
            "['Borja Serrano  Jorge A.', 1.5, 2.6, 2.0, 1.8]\n",
            "['Cabrera Solano  Alvaro J.', 3.1, 2.8, 4.5, 1.5]\n",
            "['Cantillo Arrieta  Dylan S.', 3.2, 4.8, 2.5, 5.0]\n",
            "['Cespedes Jimenez  Camilo A.', 4.5, 4.5, 1.5, 2.9]\n",
            "['Cuesta Niebles  Isabella A.', 3.0, 4.2, 3.5, 2.2]\n",
            "['De Lima Correa  Felipe A.', 3.0, 4.3, 2.5, 5.0]\n",
            "['Diaz De Moya  David E.', 3.9, 3.8, 2.0, 2.9]\n",
            "['Evilla Rodriguez  Luis F.', 3.1, 1.8, 3.5, 2.2]\n",
            "['Fajardo Hernandez  Freddy A.', 1.0, 1.7, 2.0, 2.9]\n",
            "['Figueroa Caguana  Alex E.', 4.3, 3.5, 4.4, 2.2]\n",
            "[['Arias Rua  Jonathan E.', 2.1, 2.0, 2.2], ['Bernal Bernal  Nicolas', 1.8, 1.1, 2.7], ['Blanco Amador  Isaac A.', 2.9, 1.5, 4.4], ['Borja Serrano  Jorge A.', 2.0, 1.5, 2.6], ['Cabrera Solano  Alvaro J.', 3.0, 1.5, 4.5], ['Cantillo Arrieta  Dylan S.', 3.9, 2.5, 5.0], ['Cespedes Jimenez  Camilo A.', 3.4, 1.5, 4.5], ['Cuesta Niebles  Isabella A.', 3.2, 2.2, 4.2], ['De Lima Correa  Felipe A.', 3.7, 2.5, 5.0], ['Diaz De Moya  David E.', 3.1, 2.0, 3.9], ['Evilla Rodriguez  Luis F.', 2.7, 1.8, 3.5], ['Fajardo Hernandez  Freddy A.', 1.9, 1.0, 2.9], ['Figueroa Caguana  Alex E.', 3.6, 2.2, 4.4]]\n"
          ]
        }
      ]
    },
    {
      "cell_type": "markdown",
      "source": [
        "**7. Imprimir de la lista anterior los nombres de los estudiantes y sus calificaciones promedio, máximo y mínimo.**\n",
        "\n",
        "<!--\n",
        "for e in resultCurso:\n",
        "  print(f'El estudiante {e[0]} obtuvo nota promedio de {e[1]}, nota mínima de {e[2]}, nota máxima de {e[3]}')\n",
        "-->"
      ],
      "metadata": {
        "id": "1Mku0Bj9lFt2"
      }
    },
    {
      "cell_type": "code",
      "source": [
        "# Impresión de estudiantes con sus notas promedio, máxima y mínima\n",
        "for e in resultCurso:\n",
        "  print(f'El estudiante {e[0]} obtuvo nota promedio de {e[1]}, nota mínima de {e[2]}, nota máxima de {e[3]}')"
      ],
      "metadata": {
        "id": "F5jPbwPtSyx2",
        "colab": {
          "base_uri": "https://localhost:8080/"
        },
        "outputId": "8295b68a-deb9-474a-c6ed-0e9951fe4d99"
      },
      "execution_count": null,
      "outputs": [
        {
          "output_type": "stream",
          "name": "stdout",
          "text": [
            "El estudiante Arias Rua  Jonathan E. obtuvo nota promedio de 2.1, nota mínima de 2.0, nota máxima de 2.2\n",
            "El estudiante Bernal Bernal  Nicolas obtuvo nota promedio de 1.8, nota mínima de 1.1, nota máxima de 2.7\n",
            "El estudiante Blanco Amador  Isaac A. obtuvo nota promedio de 2.9, nota mínima de 1.5, nota máxima de 4.4\n",
            "El estudiante Borja Serrano  Jorge A. obtuvo nota promedio de 2.0, nota mínima de 1.5, nota máxima de 2.6\n",
            "El estudiante Cabrera Solano  Alvaro J. obtuvo nota promedio de 3.0, nota mínima de 1.5, nota máxima de 4.5\n",
            "El estudiante Cantillo Arrieta  Dylan S. obtuvo nota promedio de 3.9, nota mínima de 2.5, nota máxima de 5.0\n",
            "El estudiante Cespedes Jimenez  Camilo A. obtuvo nota promedio de 3.4, nota mínima de 1.5, nota máxima de 4.5\n",
            "El estudiante Cuesta Niebles  Isabella A. obtuvo nota promedio de 3.2, nota mínima de 2.2, nota máxima de 4.2\n",
            "El estudiante De Lima Correa  Felipe A. obtuvo nota promedio de 3.7, nota mínima de 2.5, nota máxima de 5.0\n",
            "El estudiante Diaz De Moya  David E. obtuvo nota promedio de 3.1, nota mínima de 2.0, nota máxima de 3.9\n",
            "El estudiante Evilla Rodriguez  Luis F. obtuvo nota promedio de 2.7, nota mínima de 1.8, nota máxima de 3.5\n",
            "El estudiante Fajardo Hernandez  Freddy A. obtuvo nota promedio de 1.9, nota mínima de 1.0, nota máxima de 2.9\n",
            "El estudiante Figueroa Caguana  Alex E. obtuvo nota promedio de 3.6, nota mínima de 2.2, nota máxima de 4.4\n"
          ]
        }
      ]
    },
    {
      "cell_type": "markdown",
      "source": [
        "**8. Obtener la nota máxima, mínima y promedio del curso. Imprimir los nombres de los estudiantes con las notas máxima y mínima.**\n",
        "\n",
        "<!--\n",
        "definitiva = []\n",
        "for e in resultCurso:\n",
        "  definitiva.append(e[1])\n",
        "notaMax = max(definitiva)\n",
        "indMax = definitiva.index(notaMax)\n",
        "nombreMax = resultCurso[indMax][0]\n",
        "notaMin = min(definitiva)\n",
        "indMin = definitiva.index(notaMin)\n",
        "nombreMin = resultCurso[indMin][0]\n",
        "notaMed = media(definitiva)\n",
        "print(f'El estudiante {nombreMax} obtuvo la nota máxima de {notaMax}')\n",
        "print(f'El estudiante {nombreMin} obtuvo la nota mínima de {notaMin}')\n",
        "print(f'El promedio del curso fue {notaMed}')\n",
        "-->"
      ],
      "metadata": {
        "id": "iDHbxZYOlQdP"
      }
    },
    {
      "cell_type": "code",
      "source": [
        "# Obtener la nota máxima, mínima y promedio del curso. Imprimir los nombres de los estudiantes con las notas máxima y mínima.\n",
        "definitiva = []\n",
        "for e in resultCurso:\n",
        "  definitiva.append(e[1])\n",
        "notaMax = max(definitiva)\n",
        "indMax = definitiva.index(notaMax)\n",
        "nombreMax = resultCurso[indMax][0]\n",
        "notaMin = min(definitiva)\n",
        "indMin = definitiva.index(notaMin)\n",
        "nombreMin = resultCurso[indMin][0]\n",
        "notaMed = media(definitiva)\n",
        "print(f'El estudiante {nombreMax} obtuvo la nota máxima de {notaMax}')\n",
        "print(f'El estudiante {nombreMin} obtuvo la nota mínima de {notaMin}')\n",
        "print(f'El promedio del curso fue {notaMed}')"
      ],
      "metadata": {
        "id": "fNYNBvt8Phnb",
        "colab": {
          "base_uri": "https://localhost:8080/"
        },
        "outputId": "cab7bb09-17eb-4ecf-da95-69d5fa71cb4f"
      },
      "execution_count": null,
      "outputs": [
        {
          "output_type": "stream",
          "name": "stdout",
          "text": [
            "El estudiante Cantillo Arrieta  Dylan S. obtuvo la nota máxima de 3.9\n",
            "El estudiante Bernal Bernal  Nicolas obtuvo la nota mínima de 1.8\n",
            "El promedio del curso fue 2.9\n"
          ]
        }
      ]
    }
  ]
}