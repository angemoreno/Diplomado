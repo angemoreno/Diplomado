{
  "nbformat": 4,
  "nbformat_minor": 0,
  "metadata": {
    "colab": {
      "provenance": [],
      "authorship_tag": "ABX9TyMOyq+E3cm2NTByXhEIyHt7",
      "include_colab_link": true
    },
    "kernelspec": {
      "name": "python3",
      "display_name": "Python 3"
    },
    "language_info": {
      "name": "python"
    }
  },
  "cells": [
    {
      "cell_type": "markdown",
      "metadata": {
        "id": "view-in-github",
        "colab_type": "text"
      },
      "source": [
        "<a href=\"https://colab.research.google.com/github/angemoreno/Diplomado/blob/main/Entregable_Mod_1.ipynb\" target=\"_parent\"><img src=\"https://colab.research.google.com/assets/colab-badge.svg\" alt=\"Open In Colab\"/></a>"
      ]
    },
    {
      "cell_type": "markdown",
      "source": [
        "Entregable módulo 1\n",
        "\n",
        "Escribir un programa en Python que genere una tabla de factores de interés compuesto fic, donde:\n",
        "\n",
        "                                            𝑓𝑖𝑐 = (1 + 𝑖/100)^n\n",
        "\n",
        "\n",
        "En dicha fórmula, i representa la tasa de interés anual expresada como porcentaje y n representa el número de años. Entonces debes resolver las siguientes puntos:\n",
        "\n",
        "\n",
        "1.   Cálculo de las tasas de interés (Matriz de tasas de años x tasas de interés)\n",
        "2.   Cálculo del valor futuro:\n",
        "\n",
        "                                         𝐹 = 𝐴 ∗ 𝑓𝑖c\n",
        "\n"
      ],
      "metadata": {
        "id": "aWrbVV6QLwz8"
      }
    },
    {
      "cell_type": "code",
      "source": [
        "#Importamos las bibliotecas pandas y numpy\n",
        "import numpy as np\n",
        "import pandas as pd\n",
        "\n",
        "# Inicialmente, creamos las variables que se van a utilizar para crear la matriz\n",
        "I = float(input(\"Ingrese la tasa de interés: \")) #\"I\" es tasa de interés\n",
        "N = int(input(\"ingrese el tiempo en años: \")) #\"N\" son los años\n",
        "FIC = (1 + I/100)**N\n",
        "FIC = np.round_(FIC, decimals = 2) #Redondeo los valores del interes compuesto, FIC.\n",
        "\n",
        "N_CONSTANTE = N #Se declara esta variable para mantener el numero de años inicial constante cuando se itere más adelante con \"While\"\n",
        "\n",
        "#Creamos un loop para la lista de años N, ponemos el encabezado de \"años\", en un rango de 1 a N+1\n",
        "lista_anios = [\"Años\"]\n",
        "for i in range(1,N+1):\n",
        "  lista_anios.append(0+i) #Usamos \"append\" para colocar nuevos elementos en el espacio disponible de la lista.\n",
        "\n",
        "#Ponemos el encabezado de \"Tasa anual\"\n",
        "lista_fic = [\"Tasa de interes anual\"]\n",
        "\n",
        "#Para los valores del interes anual hacemos un loop en un rango de N+1 ypara que la secuencia de números sea completa\n",
        "for i in range(1,N+1):\n",
        "  lista_fic.append(FIC)\n",
        "  N += 1 #El valor de los años aumenta de a 1\n",
        "  I += 0.5 #El valor del interés anual aumenta de a 0.5\n",
        "  FIC = (1 + I/100)**N # Calculamos el interés compuesto\n",
        "  FIC = np.round_(FIC, decimals = 2) # Redondeo el valor del interés compuesto a 2 decimales\n",
        "\n",
        "matriz_interes = list(zip(lista_anios,lista_fic)) #Con \"zip\" unimos los valores de las listas \"lista_fic\" y \"lista_anios\"\n",
        "\n",
        "#Pongo los valores de las listas de horizontal a vertical\n",
        "matriz_vertical = [[item] for item in matriz_interes]\n",
        "for item in matriz_vertical:\n",
        "    print(item[0])\n",
        "\n",
        "inversor = \"Si\" #Creo la variable \"inversor\", que es la condición que debe cumplir para \"Break\" el \"While\", es decir, finalizar el While\n",
        "inversor_acum = 0 #Creo la variable de \"inversor_acum\" que me ayudará a informar cuántas personas solicitaron el servicio\n",
        "A_acum = 0 #Creo la variable de \"A_acum\" que me ayudará a informar cuánto dinero actual se desea ivertir\n",
        "\n",
        "#Uso \"While\" para que el código se ejecute repetidamente, dependiendo de si se cumple o no la condición:\n",
        "while inversor != \"No\":\n",
        "\n",
        "  A = int(input(\"Dinero actual a invertir: \")) #\"A\" es valor actual a invertir\n",
        "  NF = int(input(\"Número de años a futuro a invertir: \")) #\"NF\" son los años a los que el usuario desea invertir\n",
        "  TI = float(input(\"Tasa de interes a la que se invertirá: \")) #\"TI\" es la tasa de interés a la que el usuario desea invertir\n",
        "\n",
        "# Para cumplir las condiciones de While, defino los valores booleanos\n",
        "  #Creo la variable \"existe_año_en_matriz\" para validar si en la matriz creada se encuentra el número de años a futuro en el que la persona quiere invertir\n",
        "  existe_año_en_matriz = False\n",
        "  if NF <= N_CONSTANTE: #Sí el valor de NF es menor o igual a los años que están en la matriz, entonces, los años que busca la persona se encuentran en la matriz dando TRUE\n",
        "    existe_año_en_matriz = True\n",
        "\n",
        "  #Creo la variable \"existe_año_en_matriz\" para validar si en la matriz creada se encuentra la tasa de interés a la cual la persona invertirá\n",
        "  existe_tasa_en_matriz = False\n",
        "  if TI in lista_fic: #Sí el valor de TI está en la lista con los datos FIC, es decir, \"lista_fic\" entonces la tasa de interés que busca la persona da TRUE\n",
        "    existe_tasa_en_matriz = True\n",
        "\n",
        "# Con las variables \"existe_año_en_matriz\" y \"existe_tasa_en_matriz\" realizo las validaciones con los operadores lógicos:\n",
        "  if existe_tasa_en_matriz and existe_año_en_matriz: #Sí TRUE and TRUE se cumple, entonces me calcula el valor futuro (F)\n",
        "    TI_tabla = lista_fic[NF]\n",
        "    F = A*TI_tabla\n",
        "    F = np.round_(F, decimals = 2)  # Redondeo el valor del interés compuesto a 2 decimales\n",
        "    print(\"El valor futuro es: \",F)\n",
        "  elif existe_tasa_en_matriz or existe_año_en_matriz: #Sí solo se cumple una de las variables como TRUE, entonces se calcula el FIC y el valor futuro F\n",
        "    FIC = (1 + TI/100)**NF\n",
        "    FIC = np.round_(FIC, decimals = 2) #Redondeo los valores del interes compuesto, FIC.\n",
        "    print(\"El factor de interés compuesto es: \",FIC)\n",
        "    F = A*FIC\n",
        "    F = np.round_(F, decimals = 2) #Redondeo el valor futuro, F\n",
        "    print(\"El valor futuro es: \",F)\n",
        "  else: # Sí no se cumple ninguna de las variables como TRUE, entonces se calcula el FIC y el valor futuro (F)\n",
        "    FIC = (1 + TI/100)**NF\n",
        "    FIC = np.round_(FIC, decimals = 2) #Redondeo los valores del interes compuesto, FIC.\n",
        "    print(\"El factor de interés compuesto es: \",FIC)\n",
        "    F = A*FIC\n",
        "    F = np.round_(F, decimals = 2) #Redondeo el valor futuro, F\n",
        "    print(\"El valor futuro es: \",F)\n",
        "\n",
        "\n",
        "  inversor = str(input(\"Otra persona desea calcular su inversion? Si/No: \")) #Con este input dentro de While, le dice a While cuando hacer el Break\n",
        "\n",
        "# Para el Break del While, es decir, inversor = \"No\", declaro las variables acumulativas para saber cuántas personas solicitaron el servicio y cuánto dinero actual se desea invertir\n",
        "  inversor_acum += 1\n",
        "  A_acum += A\n",
        "print(\"El numero de persona a invertir es\", inversor_acum, \"y la cantidad a invertir es\", A_acum)\n",
        "\n"
      ],
      "metadata": {
        "colab": {
          "base_uri": "https://localhost:8080/"
        },
        "id": "SBkQOdmW1BIs",
        "outputId": "797dffd2-2630-4a55-99a1-c489e610af78"
      },
      "execution_count": null,
      "outputs": [
        {
          "output_type": "stream",
          "name": "stdout",
          "text": [
            "Ingrese la tasa de interés: 0.5\n",
            "ingrese el tiempo en años: 20\n",
            "('Años', 'Tasa de interes anual')\n",
            "(1, 1.1)\n",
            "(2, 1.23)\n",
            "(3, 1.39)\n",
            "(4, 1.58)\n",
            "(5, 1.81)\n",
            "(6, 2.09)\n",
            "(7, 2.45)\n",
            "(8, 2.88)\n",
            "(9, 3.43)\n",
            "(10, 4.12)\n",
            "(11, 4.98)\n",
            "(12, 6.09)\n",
            "(13, 7.5)\n",
            "(14, 9.33)\n",
            "(15, 11.69)\n",
            "(16, 14.79)\n",
            "(17, 18.86)\n",
            "(18, 24.25)\n",
            "(19, 31.46)\n",
            "(20, 41.14)\n",
            "Dinero actual a invertir: 10000\n",
            "Número de años a futuro a invertir: 1\n",
            "Tasa de interes a la que se invertirá: 1.1\n",
            "El valor futuro es:  11000.0\n",
            "Otra persona desea calcular su inversion? Si/No: Si\n",
            "Dinero actual a invertir: 20000\n",
            "Número de años a futuro a invertir: 25\n",
            "Tasa de interes a la que se invertirá: 1.1\n",
            "El factor de interés compuesto es:  1.31\n",
            "El valor futuro es:  26200.0\n",
            "Otra persona desea calcular su inversion? Si/No: Si\n",
            "Dinero actual a invertir: 30000\n",
            "Número de años a futuro a invertir: 25\n",
            "Tasa de interes a la que se invertirá: 45\n",
            "El factor de interés compuesto es:  10819.32\n",
            "El valor futuro es:  324579600.0\n",
            "Otra persona desea calcular su inversion? Si/No: No\n",
            "El numero de persona a invertir es 3 y la cantidad a invertir es 60000\n"
          ]
        }
      ]
    },
    {
      "cell_type": "code",
      "source": [],
      "metadata": {
        "id": "qF8KQhJCP0tp"
      },
      "execution_count": null,
      "outputs": []
    }
  ]
}