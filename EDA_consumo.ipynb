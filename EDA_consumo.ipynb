{
  "nbformat": 4,
  "nbformat_minor": 0,
  "metadata": {
    "colab": {
      "provenance": [],
      "authorship_tag": "ABX9TyMcY7FxOlc/Uaz/NIAJdpDD",
      "include_colab_link": true
    },
    "kernelspec": {
      "name": "python3",
      "display_name": "Python 3"
    },
    "language_info": {
      "name": "python"
    }
  },
  "cells": [
    {
      "cell_type": "markdown",
      "metadata": {
        "id": "view-in-github",
        "colab_type": "text"
      },
      "source": [
        "<a href=\"https://colab.research.google.com/github/angemoreno/Diplomado/blob/main/EDA_consumo.ipynb\" target=\"_parent\"><img src=\"https://colab.research.google.com/assets/colab-badge.svg\" alt=\"Open In Colab\"/></a>"
      ]
    },
    {
      "cell_type": "markdown",
      "source": [
        "Primero se cargan las librerías y se cargan los datos"
      ],
      "metadata": {
        "id": "JQM0CffQERiM"
      }
    },
    {
      "cell_type": "code",
      "execution_count": null,
      "metadata": {
        "id": "-ixVJexk4jOV"
      },
      "outputs": [],
      "source": [
        "import pandas as pd\n",
        "import numpy as np\n",
        "from statistics import mean\n",
        "\n",
        "filename = \"ds-energy-consumers.csv\"\n",
        "df = pd.read_csv(filename, sep=\",\")"
      ]
    },
    {
      "cell_type": "code",
      "source": [
        "df"
      ],
      "metadata": {
        "colab": {
          "base_uri": "https://localhost:8080/",
          "height": 423
        },
        "id": "qKd5WGWCFzhC",
        "outputId": "8884a7bb-8c28-4946-eaf7-200cffce763d"
      },
      "execution_count": null,
      "outputs": [
        {
          "output_type": "execute_result",
          "data": {
            "text/plain": [
              "           NIC  Estrato  Nhab  Ingresos  Consumo  IndReca  QSAT\n",
              "0      1234686      1.0     5      3.62   286.00      0.2   2.4\n",
              "1      1234779      1.0     2      1.55   236.00      0.2   1.1\n",
              "2      1235077      4.0     6     16.72   304.44      0.4   3.0\n",
              "3      1235104      2.0     4      5.63   296.00      0.2   4.7\n",
              "4      1235131      4.0     5     13.96   390.00      0.4   1.8\n",
              "...        ...      ...   ...       ...      ...      ...   ...\n",
              "21912  2999555      3.0     4     11.21   352.00      0.3   1.5\n",
              "21913  2999667      4.0     2      5.61   276.00      0.4   2.7\n",
              "21914  2999716      2.0     5      7.07   321.00      0.2   2.4\n",
              "21915  2999730      4.0     6     16.73   304.44      0.4   1.5\n",
              "21916  2999862      2.0     3      4.32   273.00      0.2   2.7\n",
              "\n",
              "[21917 rows x 7 columns]"
            ],
            "text/html": [
              "\n",
              "  <div id=\"df-b14934cd-daf2-4a29-bc2a-16d9615ca274\" class=\"colab-df-container\">\n",
              "    <div>\n",
              "<style scoped>\n",
              "    .dataframe tbody tr th:only-of-type {\n",
              "        vertical-align: middle;\n",
              "    }\n",
              "\n",
              "    .dataframe tbody tr th {\n",
              "        vertical-align: top;\n",
              "    }\n",
              "\n",
              "    .dataframe thead th {\n",
              "        text-align: right;\n",
              "    }\n",
              "</style>\n",
              "<table border=\"1\" class=\"dataframe\">\n",
              "  <thead>\n",
              "    <tr style=\"text-align: right;\">\n",
              "      <th></th>\n",
              "      <th>NIC</th>\n",
              "      <th>Estrato</th>\n",
              "      <th>Nhab</th>\n",
              "      <th>Ingresos</th>\n",
              "      <th>Consumo</th>\n",
              "      <th>IndReca</th>\n",
              "      <th>QSAT</th>\n",
              "    </tr>\n",
              "  </thead>\n",
              "  <tbody>\n",
              "    <tr>\n",
              "      <th>0</th>\n",
              "      <td>1234686</td>\n",
              "      <td>1.0</td>\n",
              "      <td>5</td>\n",
              "      <td>3.62</td>\n",
              "      <td>286.00</td>\n",
              "      <td>0.2</td>\n",
              "      <td>2.4</td>\n",
              "    </tr>\n",
              "    <tr>\n",
              "      <th>1</th>\n",
              "      <td>1234779</td>\n",
              "      <td>1.0</td>\n",
              "      <td>2</td>\n",
              "      <td>1.55</td>\n",
              "      <td>236.00</td>\n",
              "      <td>0.2</td>\n",
              "      <td>1.1</td>\n",
              "    </tr>\n",
              "    <tr>\n",
              "      <th>2</th>\n",
              "      <td>1235077</td>\n",
              "      <td>4.0</td>\n",
              "      <td>6</td>\n",
              "      <td>16.72</td>\n",
              "      <td>304.44</td>\n",
              "      <td>0.4</td>\n",
              "      <td>3.0</td>\n",
              "    </tr>\n",
              "    <tr>\n",
              "      <th>3</th>\n",
              "      <td>1235104</td>\n",
              "      <td>2.0</td>\n",
              "      <td>4</td>\n",
              "      <td>5.63</td>\n",
              "      <td>296.00</td>\n",
              "      <td>0.2</td>\n",
              "      <td>4.7</td>\n",
              "    </tr>\n",
              "    <tr>\n",
              "      <th>4</th>\n",
              "      <td>1235131</td>\n",
              "      <td>4.0</td>\n",
              "      <td>5</td>\n",
              "      <td>13.96</td>\n",
              "      <td>390.00</td>\n",
              "      <td>0.4</td>\n",
              "      <td>1.8</td>\n",
              "    </tr>\n",
              "    <tr>\n",
              "      <th>...</th>\n",
              "      <td>...</td>\n",
              "      <td>...</td>\n",
              "      <td>...</td>\n",
              "      <td>...</td>\n",
              "      <td>...</td>\n",
              "      <td>...</td>\n",
              "      <td>...</td>\n",
              "    </tr>\n",
              "    <tr>\n",
              "      <th>21912</th>\n",
              "      <td>2999555</td>\n",
              "      <td>3.0</td>\n",
              "      <td>4</td>\n",
              "      <td>11.21</td>\n",
              "      <td>352.00</td>\n",
              "      <td>0.3</td>\n",
              "      <td>1.5</td>\n",
              "    </tr>\n",
              "    <tr>\n",
              "      <th>21913</th>\n",
              "      <td>2999667</td>\n",
              "      <td>4.0</td>\n",
              "      <td>2</td>\n",
              "      <td>5.61</td>\n",
              "      <td>276.00</td>\n",
              "      <td>0.4</td>\n",
              "      <td>2.7</td>\n",
              "    </tr>\n",
              "    <tr>\n",
              "      <th>21914</th>\n",
              "      <td>2999716</td>\n",
              "      <td>2.0</td>\n",
              "      <td>5</td>\n",
              "      <td>7.07</td>\n",
              "      <td>321.00</td>\n",
              "      <td>0.2</td>\n",
              "      <td>2.4</td>\n",
              "    </tr>\n",
              "    <tr>\n",
              "      <th>21915</th>\n",
              "      <td>2999730</td>\n",
              "      <td>4.0</td>\n",
              "      <td>6</td>\n",
              "      <td>16.73</td>\n",
              "      <td>304.44</td>\n",
              "      <td>0.4</td>\n",
              "      <td>1.5</td>\n",
              "    </tr>\n",
              "    <tr>\n",
              "      <th>21916</th>\n",
              "      <td>2999862</td>\n",
              "      <td>2.0</td>\n",
              "      <td>3</td>\n",
              "      <td>4.32</td>\n",
              "      <td>273.00</td>\n",
              "      <td>0.2</td>\n",
              "      <td>2.7</td>\n",
              "    </tr>\n",
              "  </tbody>\n",
              "</table>\n",
              "<p>21917 rows × 7 columns</p>\n",
              "</div>\n",
              "    <div class=\"colab-df-buttons\">\n",
              "\n",
              "  <div class=\"colab-df-container\">\n",
              "    <button class=\"colab-df-convert\" onclick=\"convertToInteractive('df-b14934cd-daf2-4a29-bc2a-16d9615ca274')\"\n",
              "            title=\"Convert this dataframe to an interactive table.\"\n",
              "            style=\"display:none;\">\n",
              "\n",
              "  <svg xmlns=\"http://www.w3.org/2000/svg\" height=\"24px\" viewBox=\"0 -960 960 960\">\n",
              "    <path d=\"M120-120v-720h720v720H120Zm60-500h600v-160H180v160Zm220 220h160v-160H400v160Zm0 220h160v-160H400v160ZM180-400h160v-160H180v160Zm440 0h160v-160H620v160ZM180-180h160v-160H180v160Zm440 0h160v-160H620v160Z\"/>\n",
              "  </svg>\n",
              "    </button>\n",
              "\n",
              "  <style>\n",
              "    .colab-df-container {\n",
              "      display:flex;\n",
              "      gap: 12px;\n",
              "    }\n",
              "\n",
              "    .colab-df-convert {\n",
              "      background-color: #E8F0FE;\n",
              "      border: none;\n",
              "      border-radius: 50%;\n",
              "      cursor: pointer;\n",
              "      display: none;\n",
              "      fill: #1967D2;\n",
              "      height: 32px;\n",
              "      padding: 0 0 0 0;\n",
              "      width: 32px;\n",
              "    }\n",
              "\n",
              "    .colab-df-convert:hover {\n",
              "      background-color: #E2EBFA;\n",
              "      box-shadow: 0px 1px 2px rgba(60, 64, 67, 0.3), 0px 1px 3px 1px rgba(60, 64, 67, 0.15);\n",
              "      fill: #174EA6;\n",
              "    }\n",
              "\n",
              "    .colab-df-buttons div {\n",
              "      margin-bottom: 4px;\n",
              "    }\n",
              "\n",
              "    [theme=dark] .colab-df-convert {\n",
              "      background-color: #3B4455;\n",
              "      fill: #D2E3FC;\n",
              "    }\n",
              "\n",
              "    [theme=dark] .colab-df-convert:hover {\n",
              "      background-color: #434B5C;\n",
              "      box-shadow: 0px 1px 3px 1px rgba(0, 0, 0, 0.15);\n",
              "      filter: drop-shadow(0px 1px 2px rgba(0, 0, 0, 0.3));\n",
              "      fill: #FFFFFF;\n",
              "    }\n",
              "  </style>\n",
              "\n",
              "    <script>\n",
              "      const buttonEl =\n",
              "        document.querySelector('#df-b14934cd-daf2-4a29-bc2a-16d9615ca274 button.colab-df-convert');\n",
              "      buttonEl.style.display =\n",
              "        google.colab.kernel.accessAllowed ? 'block' : 'none';\n",
              "\n",
              "      async function convertToInteractive(key) {\n",
              "        const element = document.querySelector('#df-b14934cd-daf2-4a29-bc2a-16d9615ca274');\n",
              "        const dataTable =\n",
              "          await google.colab.kernel.invokeFunction('convertToInteractive',\n",
              "                                                    [key], {});\n",
              "        if (!dataTable) return;\n",
              "\n",
              "        const docLinkHtml = 'Like what you see? Visit the ' +\n",
              "          '<a target=\"_blank\" href=https://colab.research.google.com/notebooks/data_table.ipynb>data table notebook</a>'\n",
              "          + ' to learn more about interactive tables.';\n",
              "        element.innerHTML = '';\n",
              "        dataTable['output_type'] = 'display_data';\n",
              "        await google.colab.output.renderOutput(dataTable, element);\n",
              "        const docLink = document.createElement('div');\n",
              "        docLink.innerHTML = docLinkHtml;\n",
              "        element.appendChild(docLink);\n",
              "      }\n",
              "    </script>\n",
              "  </div>\n",
              "\n",
              "\n",
              "<div id=\"df-f6c178d7-02f4-4976-8828-c0e655393116\">\n",
              "  <button class=\"colab-df-quickchart\" onclick=\"quickchart('df-f6c178d7-02f4-4976-8828-c0e655393116')\"\n",
              "            title=\"Suggest charts.\"\n",
              "            style=\"display:none;\">\n",
              "\n",
              "<svg xmlns=\"http://www.w3.org/2000/svg\" height=\"24px\"viewBox=\"0 0 24 24\"\n",
              "     width=\"24px\">\n",
              "    <g>\n",
              "        <path d=\"M19 3H5c-1.1 0-2 .9-2 2v14c0 1.1.9 2 2 2h14c1.1 0 2-.9 2-2V5c0-1.1-.9-2-2-2zM9 17H7v-7h2v7zm4 0h-2V7h2v10zm4 0h-2v-4h2v4z\"/>\n",
              "    </g>\n",
              "</svg>\n",
              "  </button>\n",
              "\n",
              "<style>\n",
              "  .colab-df-quickchart {\n",
              "    background-color: #E8F0FE;\n",
              "    border: none;\n",
              "    border-radius: 50%;\n",
              "    cursor: pointer;\n",
              "    display: none;\n",
              "    fill: #1967D2;\n",
              "    height: 32px;\n",
              "    padding: 0 0 0 0;\n",
              "    width: 32px;\n",
              "  }\n",
              "\n",
              "  .colab-df-quickchart:hover {\n",
              "    background-color: #E2EBFA;\n",
              "    box-shadow: 0px 1px 2px rgba(60, 64, 67, 0.3), 0px 1px 3px 1px rgba(60, 64, 67, 0.15);\n",
              "    fill: #174EA6;\n",
              "  }\n",
              "\n",
              "  [theme=dark] .colab-df-quickchart {\n",
              "    background-color: #3B4455;\n",
              "    fill: #D2E3FC;\n",
              "  }\n",
              "\n",
              "  [theme=dark] .colab-df-quickchart:hover {\n",
              "    background-color: #434B5C;\n",
              "    box-shadow: 0px 1px 3px 1px rgba(0, 0, 0, 0.15);\n",
              "    filter: drop-shadow(0px 1px 2px rgba(0, 0, 0, 0.3));\n",
              "    fill: #FFFFFF;\n",
              "  }\n",
              "</style>\n",
              "\n",
              "  <script>\n",
              "    async function quickchart(key) {\n",
              "      const charts = await google.colab.kernel.invokeFunction(\n",
              "          'suggestCharts', [key], {});\n",
              "    }\n",
              "    (() => {\n",
              "      let quickchartButtonEl =\n",
              "        document.querySelector('#df-f6c178d7-02f4-4976-8828-c0e655393116 button');\n",
              "      quickchartButtonEl.style.display =\n",
              "        google.colab.kernel.accessAllowed ? 'block' : 'none';\n",
              "    })();\n",
              "  </script>\n",
              "</div>\n",
              "    </div>\n",
              "  </div>\n"
            ]
          },
          "metadata": {},
          "execution_count": 181
        }
      ]
    },
    {
      "cell_type": "markdown",
      "source": [
        "Paso los valores negativos a positivos absolutizando con la función abs()"
      ],
      "metadata": {
        "id": "hsBstr9PEd-X"
      }
    },
    {
      "cell_type": "code",
      "source": [
        "df = abs(df)\n",
        "df.describe()"
      ],
      "metadata": {
        "colab": {
          "base_uri": "https://localhost:8080/",
          "height": 300
        },
        "id": "bJQGgZU44qu9",
        "outputId": "31ac68e4-86bd-4f8e-ca11-ed0a26d2e853"
      },
      "execution_count": null,
      "outputs": [
        {
          "output_type": "execute_result",
          "data": {
            "text/plain": [
              "                NIC       Estrato          Nhab      Ingresos       Consumo  \\\n",
              "count  2.191700e+04  21917.000000  21917.000000  21917.000000  21917.000000   \n",
              "mean   2.117604e+06      2.513711      4.006981      7.063782    304.436103   \n",
              "std    5.108147e+05      1.111775      1.414729      4.089644     42.673752   \n",
              "min    1.234686e+06      1.000000      2.000000      1.480000    235.000000   \n",
              "25%    1.678706e+06      2.000000      3.000000      3.640000    272.000000   \n",
              "50%    2.120192e+06      3.000000      4.000000      6.300000    302.000000   \n",
              "75%    2.558549e+06      3.000000      5.000000     10.430000    344.000000   \n",
              "max    2.999862e+06      4.000000      6.000000     16.730000    390.000000   \n",
              "\n",
              "            IndReca          QSAT  \n",
              "count  21917.000000  21917.000000  \n",
              "mean       0.295613      2.949172  \n",
              "std        0.093297      1.155652  \n",
              "min        0.200000      1.000000  \n",
              "25%        0.200000      2.000000  \n",
              "50%        0.300000      2.900000  \n",
              "75%        0.400000      3.900000  \n",
              "max        0.400000      4.900000  "
            ],
            "text/html": [
              "\n",
              "  <div id=\"df-bcd4b099-a84e-4bf3-a45a-753d23936e6a\" class=\"colab-df-container\">\n",
              "    <div>\n",
              "<style scoped>\n",
              "    .dataframe tbody tr th:only-of-type {\n",
              "        vertical-align: middle;\n",
              "    }\n",
              "\n",
              "    .dataframe tbody tr th {\n",
              "        vertical-align: top;\n",
              "    }\n",
              "\n",
              "    .dataframe thead th {\n",
              "        text-align: right;\n",
              "    }\n",
              "</style>\n",
              "<table border=\"1\" class=\"dataframe\">\n",
              "  <thead>\n",
              "    <tr style=\"text-align: right;\">\n",
              "      <th></th>\n",
              "      <th>NIC</th>\n",
              "      <th>Estrato</th>\n",
              "      <th>Nhab</th>\n",
              "      <th>Ingresos</th>\n",
              "      <th>Consumo</th>\n",
              "      <th>IndReca</th>\n",
              "      <th>QSAT</th>\n",
              "    </tr>\n",
              "  </thead>\n",
              "  <tbody>\n",
              "    <tr>\n",
              "      <th>count</th>\n",
              "      <td>2.191700e+04</td>\n",
              "      <td>21917.000000</td>\n",
              "      <td>21917.000000</td>\n",
              "      <td>21917.000000</td>\n",
              "      <td>21917.000000</td>\n",
              "      <td>21917.000000</td>\n",
              "      <td>21917.000000</td>\n",
              "    </tr>\n",
              "    <tr>\n",
              "      <th>mean</th>\n",
              "      <td>2.117604e+06</td>\n",
              "      <td>2.513711</td>\n",
              "      <td>4.006981</td>\n",
              "      <td>7.063782</td>\n",
              "      <td>304.436103</td>\n",
              "      <td>0.295613</td>\n",
              "      <td>2.949172</td>\n",
              "    </tr>\n",
              "    <tr>\n",
              "      <th>std</th>\n",
              "      <td>5.108147e+05</td>\n",
              "      <td>1.111775</td>\n",
              "      <td>1.414729</td>\n",
              "      <td>4.089644</td>\n",
              "      <td>42.673752</td>\n",
              "      <td>0.093297</td>\n",
              "      <td>1.155652</td>\n",
              "    </tr>\n",
              "    <tr>\n",
              "      <th>min</th>\n",
              "      <td>1.234686e+06</td>\n",
              "      <td>1.000000</td>\n",
              "      <td>2.000000</td>\n",
              "      <td>1.480000</td>\n",
              "      <td>235.000000</td>\n",
              "      <td>0.200000</td>\n",
              "      <td>1.000000</td>\n",
              "    </tr>\n",
              "    <tr>\n",
              "      <th>25%</th>\n",
              "      <td>1.678706e+06</td>\n",
              "      <td>2.000000</td>\n",
              "      <td>3.000000</td>\n",
              "      <td>3.640000</td>\n",
              "      <td>272.000000</td>\n",
              "      <td>0.200000</td>\n",
              "      <td>2.000000</td>\n",
              "    </tr>\n",
              "    <tr>\n",
              "      <th>50%</th>\n",
              "      <td>2.120192e+06</td>\n",
              "      <td>3.000000</td>\n",
              "      <td>4.000000</td>\n",
              "      <td>6.300000</td>\n",
              "      <td>302.000000</td>\n",
              "      <td>0.300000</td>\n",
              "      <td>2.900000</td>\n",
              "    </tr>\n",
              "    <tr>\n",
              "      <th>75%</th>\n",
              "      <td>2.558549e+06</td>\n",
              "      <td>3.000000</td>\n",
              "      <td>5.000000</td>\n",
              "      <td>10.430000</td>\n",
              "      <td>344.000000</td>\n",
              "      <td>0.400000</td>\n",
              "      <td>3.900000</td>\n",
              "    </tr>\n",
              "    <tr>\n",
              "      <th>max</th>\n",
              "      <td>2.999862e+06</td>\n",
              "      <td>4.000000</td>\n",
              "      <td>6.000000</td>\n",
              "      <td>16.730000</td>\n",
              "      <td>390.000000</td>\n",
              "      <td>0.400000</td>\n",
              "      <td>4.900000</td>\n",
              "    </tr>\n",
              "  </tbody>\n",
              "</table>\n",
              "</div>\n",
              "    <div class=\"colab-df-buttons\">\n",
              "\n",
              "  <div class=\"colab-df-container\">\n",
              "    <button class=\"colab-df-convert\" onclick=\"convertToInteractive('df-bcd4b099-a84e-4bf3-a45a-753d23936e6a')\"\n",
              "            title=\"Convert this dataframe to an interactive table.\"\n",
              "            style=\"display:none;\">\n",
              "\n",
              "  <svg xmlns=\"http://www.w3.org/2000/svg\" height=\"24px\" viewBox=\"0 -960 960 960\">\n",
              "    <path d=\"M120-120v-720h720v720H120Zm60-500h600v-160H180v160Zm220 220h160v-160H400v160Zm0 220h160v-160H400v160ZM180-400h160v-160H180v160Zm440 0h160v-160H620v160ZM180-180h160v-160H180v160Zm440 0h160v-160H620v160Z\"/>\n",
              "  </svg>\n",
              "    </button>\n",
              "\n",
              "  <style>\n",
              "    .colab-df-container {\n",
              "      display:flex;\n",
              "      gap: 12px;\n",
              "    }\n",
              "\n",
              "    .colab-df-convert {\n",
              "      background-color: #E8F0FE;\n",
              "      border: none;\n",
              "      border-radius: 50%;\n",
              "      cursor: pointer;\n",
              "      display: none;\n",
              "      fill: #1967D2;\n",
              "      height: 32px;\n",
              "      padding: 0 0 0 0;\n",
              "      width: 32px;\n",
              "    }\n",
              "\n",
              "    .colab-df-convert:hover {\n",
              "      background-color: #E2EBFA;\n",
              "      box-shadow: 0px 1px 2px rgba(60, 64, 67, 0.3), 0px 1px 3px 1px rgba(60, 64, 67, 0.15);\n",
              "      fill: #174EA6;\n",
              "    }\n",
              "\n",
              "    .colab-df-buttons div {\n",
              "      margin-bottom: 4px;\n",
              "    }\n",
              "\n",
              "    [theme=dark] .colab-df-convert {\n",
              "      background-color: #3B4455;\n",
              "      fill: #D2E3FC;\n",
              "    }\n",
              "\n",
              "    [theme=dark] .colab-df-convert:hover {\n",
              "      background-color: #434B5C;\n",
              "      box-shadow: 0px 1px 3px 1px rgba(0, 0, 0, 0.15);\n",
              "      filter: drop-shadow(0px 1px 2px rgba(0, 0, 0, 0.3));\n",
              "      fill: #FFFFFF;\n",
              "    }\n",
              "  </style>\n",
              "\n",
              "    <script>\n",
              "      const buttonEl =\n",
              "        document.querySelector('#df-bcd4b099-a84e-4bf3-a45a-753d23936e6a button.colab-df-convert');\n",
              "      buttonEl.style.display =\n",
              "        google.colab.kernel.accessAllowed ? 'block' : 'none';\n",
              "\n",
              "      async function convertToInteractive(key) {\n",
              "        const element = document.querySelector('#df-bcd4b099-a84e-4bf3-a45a-753d23936e6a');\n",
              "        const dataTable =\n",
              "          await google.colab.kernel.invokeFunction('convertToInteractive',\n",
              "                                                    [key], {});\n",
              "        if (!dataTable) return;\n",
              "\n",
              "        const docLinkHtml = 'Like what you see? Visit the ' +\n",
              "          '<a target=\"_blank\" href=https://colab.research.google.com/notebooks/data_table.ipynb>data table notebook</a>'\n",
              "          + ' to learn more about interactive tables.';\n",
              "        element.innerHTML = '';\n",
              "        dataTable['output_type'] = 'display_data';\n",
              "        await google.colab.output.renderOutput(dataTable, element);\n",
              "        const docLink = document.createElement('div');\n",
              "        docLink.innerHTML = docLinkHtml;\n",
              "        element.appendChild(docLink);\n",
              "      }\n",
              "    </script>\n",
              "  </div>\n",
              "\n",
              "\n",
              "<div id=\"df-6e68f3e7-8d08-42d8-966d-6d474104516a\">\n",
              "  <button class=\"colab-df-quickchart\" onclick=\"quickchart('df-6e68f3e7-8d08-42d8-966d-6d474104516a')\"\n",
              "            title=\"Suggest charts.\"\n",
              "            style=\"display:none;\">\n",
              "\n",
              "<svg xmlns=\"http://www.w3.org/2000/svg\" height=\"24px\"viewBox=\"0 0 24 24\"\n",
              "     width=\"24px\">\n",
              "    <g>\n",
              "        <path d=\"M19 3H5c-1.1 0-2 .9-2 2v14c0 1.1.9 2 2 2h14c1.1 0 2-.9 2-2V5c0-1.1-.9-2-2-2zM9 17H7v-7h2v7zm4 0h-2V7h2v10zm4 0h-2v-4h2v4z\"/>\n",
              "    </g>\n",
              "</svg>\n",
              "  </button>\n",
              "\n",
              "<style>\n",
              "  .colab-df-quickchart {\n",
              "    background-color: #E8F0FE;\n",
              "    border: none;\n",
              "    border-radius: 50%;\n",
              "    cursor: pointer;\n",
              "    display: none;\n",
              "    fill: #1967D2;\n",
              "    height: 32px;\n",
              "    padding: 0 0 0 0;\n",
              "    width: 32px;\n",
              "  }\n",
              "\n",
              "  .colab-df-quickchart:hover {\n",
              "    background-color: #E2EBFA;\n",
              "    box-shadow: 0px 1px 2px rgba(60, 64, 67, 0.3), 0px 1px 3px 1px rgba(60, 64, 67, 0.15);\n",
              "    fill: #174EA6;\n",
              "  }\n",
              "\n",
              "  [theme=dark] .colab-df-quickchart {\n",
              "    background-color: #3B4455;\n",
              "    fill: #D2E3FC;\n",
              "  }\n",
              "\n",
              "  [theme=dark] .colab-df-quickchart:hover {\n",
              "    background-color: #434B5C;\n",
              "    box-shadow: 0px 1px 3px 1px rgba(0, 0, 0, 0.15);\n",
              "    filter: drop-shadow(0px 1px 2px rgba(0, 0, 0, 0.3));\n",
              "    fill: #FFFFFF;\n",
              "  }\n",
              "</style>\n",
              "\n",
              "  <script>\n",
              "    async function quickchart(key) {\n",
              "      const charts = await google.colab.kernel.invokeFunction(\n",
              "          'suggestCharts', [key], {});\n",
              "    }\n",
              "    (() => {\n",
              "      let quickchartButtonEl =\n",
              "        document.querySelector('#df-6e68f3e7-8d08-42d8-966d-6d474104516a button');\n",
              "      quickchartButtonEl.style.display =\n",
              "        google.colab.kernel.accessAllowed ? 'block' : 'none';\n",
              "    })();\n",
              "  </script>\n",
              "</div>\n",
              "    </div>\n",
              "  </div>\n"
            ]
          },
          "metadata": {},
          "execution_count": 182
        }
      ]
    },
    {
      "cell_type": "code",
      "source": [
        "valores_nulos = df.isnull().sum() #Ya que la matriz es muy extensa para identificar los valores nulos, realizo la sumatorio de los valores faltantes por atributo\n",
        "print(valores_nulos) #Defino la sumatoria de los valores nulos por atriuto como una variable \"valores_nulos\""
      ],
      "metadata": {
        "colab": {
          "base_uri": "https://localhost:8080/"
        },
        "id": "ljNWELac4qsG",
        "outputId": "bae3d572-8dd6-4fd6-a5aa-605163206d7c"
      },
      "execution_count": null,
      "outputs": [
        {
          "output_type": "stream",
          "name": "stdout",
          "text": [
            "NIC         0\n",
            "Estrato     0\n",
            "Nhab        0\n",
            "Ingresos    0\n",
            "Consumo     0\n",
            "IndReca     0\n",
            "QSAT        0\n",
            "dtype: int64\n"
          ]
        }
      ]
    },
    {
      "cell_type": "code",
      "source": [
        "(df == 0).sum() #Busco valores que se encuentren en 0 en las celdas para cada atributo, para esto a través de una lista de la suma de los atributos que tienen valores en"
      ],
      "metadata": {
        "colab": {
          "base_uri": "https://localhost:8080/"
        },
        "id": "VochlCkv4qpO",
        "outputId": "17510c92-80db-4624-ca10-985021d92f6f"
      },
      "execution_count": null,
      "outputs": [
        {
          "output_type": "execute_result",
          "data": {
            "text/plain": [
              "NIC         0\n",
              "Estrato     0\n",
              "Nhab        0\n",
              "Ingresos    0\n",
              "Consumo     0\n",
              "IndReca     0\n",
              "QSAT        0\n",
              "dtype: int64"
            ]
          },
          "metadata": {},
          "execution_count": 184
        }
      ]
    },
    {
      "cell_type": "markdown",
      "source": [
        "Se observa que tengo las siguientes inconsistencias:\n",
        "\n",
        "\n",
        "*   Los valores del atributo Estrato deben estar entre los rangos 1 - 4, pero su valor máximo es 5, es decir, este atributo tiene valores atipicos.\n",
        "*   El atributo Estrato tiene 395 valores nulos.\n",
        "*   Los valores del atributo Consumo deben estar entre los rangos 200 - 400 kWh, pero su valor máximo es 99999, entonces, este atributo también tiene valores atipicos.\n",
        "*    El atributo Consumo tiene 51 valores nulos.\n",
        "*   Los valores del atributo IndReca deben estar entre los rangos 0 - 1 y estos valores deben estar entre el intervalo entre 25% y 75% de los valores. *****\n",
        "*   El atributo IndReca tiene 48 valores nulos.\n",
        "*   Los valores del atributo QSAT deben estar entre los rangos 1 - 5, sin embargo, este atributo tiene valores atipicos al tener un valor mínimo de 0 y valor mínimo de 0.\n",
        "*   El atributo QSAT tiene 4 valores en cero.\n",
        "\n",
        "\n"
      ],
      "metadata": {
        "id": "P5DJFv6b4vJ5"
      }
    },
    {
      "cell_type": "markdown",
      "source": [
        "## **Para el atributo Consumo**"
      ],
      "metadata": {
        "id": "q3o7e_QW5GH1"
      }
    },
    {
      "cell_type": "markdown",
      "source": [
        "Dado que los valores en Consumo tiene valores muy grandes que se salen del rango pedido por la empresa (200 - 420 kWh), al calcular el promedio, me dará un valor que también estará fuera del rango solicitado. Por lo que para resolver esto, los valores que están por fuera del rango se reemplazarán por \"NaN\", Not a Number, que es un valor float que se usará para representar valores indefinidos o no representables evitando que se afecte el valor promedio y posteriormente reemplazo los valores NaN por el promedio de Consumo."
      ],
      "metadata": {
        "id": "lwiTbVObJOZy"
      }
    },
    {
      "cell_type": "code",
      "source": [
        "NaN = float(\"nan\") # Creo la variable \"NaN\"\n",
        "df.loc[((df[\"Consumo\"]<200) | (df[\"Consumo\"]>420)), \"Consumo\"] = NaN #Hallo los valores en Consumo fuera del rango y lo igualo a la variable NaN"
      ],
      "metadata": {
        "id": "ZnFJ20RH4qme"
      },
      "execution_count": null,
      "outputs": []
    },
    {
      "cell_type": "code",
      "source": [
        "promedio_consumo= round(df[\"Consumo\"].mean(), 2) #Saco el promedio para el atributo Consumo y lo redondeo a dos cifras significativas."
      ],
      "metadata": {
        "id": "WTZ6RD_44qjh"
      },
      "execution_count": null,
      "outputs": []
    },
    {
      "cell_type": "code",
      "source": [
        "df.loc[df[\"Consumo\"].isnull(), \"Consumo\"] = promedio_consumo #Reemplazo los valores nulos de estrato con el valor promedio del atributo Consumo."
      ],
      "metadata": {
        "id": "oN0HZRguLo_M"
      },
      "execution_count": null,
      "outputs": []
    },
    {
      "cell_type": "markdown",
      "source": [
        "##**Para el atributo Estrato**"
      ],
      "metadata": {
        "id": "Cv1jxTe1MYiT"
      }
    },
    {
      "cell_type": "markdown",
      "source": [
        "# Valores nulos de Estrato"
      ],
      "metadata": {
        "id": "kjwM_mRwMzaC"
      }
    },
    {
      "cell_type": "code",
      "source": [
        "promedio_estrato = round(df[\"Estrato\"].mean(), 0) #Hayo el promedio para el atributo Estrato y lo redondeo a dos cifras significativas."
      ],
      "metadata": {
        "id": "diDKhbEtMGpz"
      },
      "execution_count": null,
      "outputs": []
    },
    {
      "cell_type": "code",
      "source": [
        "df.loc[df[\"Estrato\"].isnull(), \"Estrato\"] = promedio_estrato #Reemplazo los valores nulos de estrato con el valor promedio del atributo Estrato."
      ],
      "metadata": {
        "id": "2263axLdMGmP"
      },
      "execution_count": null,
      "outputs": []
    },
    {
      "cell_type": "markdown",
      "source": [
        "# Valores atipicos de Estrato"
      ],
      "metadata": {
        "id": "Rn06NgWiNLD6"
      }
    },
    {
      "cell_type": "code",
      "source": [
        "df[((df[\"Estrato\"]<1) | (df[\"Estrato\"]>4))] #Se sacan todos los valores atipicos del Estrato: menores a 1 y mayores a 4"
      ],
      "metadata": {
        "colab": {
          "base_uri": "https://localhost:8080/",
          "height": 53
        },
        "id": "opGimuJOMGi2",
        "outputId": "3d1a10d4-e843-4754-8b30-cbfea543901e"
      },
      "execution_count": null,
      "outputs": [
        {
          "output_type": "execute_result",
          "data": {
            "text/plain": [
              "Empty DataFrame\n",
              "Columns: [NIC, Estrato, Nhab, Ingresos, Consumo, IndReca, QSAT]\n",
              "Index: []"
            ],
            "text/html": [
              "\n",
              "  <div id=\"df-4d2076ce-68b8-47c3-9935-d3bdade5d95e\" class=\"colab-df-container\">\n",
              "    <div>\n",
              "<style scoped>\n",
              "    .dataframe tbody tr th:only-of-type {\n",
              "        vertical-align: middle;\n",
              "    }\n",
              "\n",
              "    .dataframe tbody tr th {\n",
              "        vertical-align: top;\n",
              "    }\n",
              "\n",
              "    .dataframe thead th {\n",
              "        text-align: right;\n",
              "    }\n",
              "</style>\n",
              "<table border=\"1\" class=\"dataframe\">\n",
              "  <thead>\n",
              "    <tr style=\"text-align: right;\">\n",
              "      <th></th>\n",
              "      <th>NIC</th>\n",
              "      <th>Estrato</th>\n",
              "      <th>Nhab</th>\n",
              "      <th>Ingresos</th>\n",
              "      <th>Consumo</th>\n",
              "      <th>IndReca</th>\n",
              "      <th>QSAT</th>\n",
              "    </tr>\n",
              "  </thead>\n",
              "  <tbody>\n",
              "  </tbody>\n",
              "</table>\n",
              "</div>\n",
              "    <div class=\"colab-df-buttons\">\n",
              "\n",
              "  <div class=\"colab-df-container\">\n",
              "    <button class=\"colab-df-convert\" onclick=\"convertToInteractive('df-4d2076ce-68b8-47c3-9935-d3bdade5d95e')\"\n",
              "            title=\"Convert this dataframe to an interactive table.\"\n",
              "            style=\"display:none;\">\n",
              "\n",
              "  <svg xmlns=\"http://www.w3.org/2000/svg\" height=\"24px\" viewBox=\"0 -960 960 960\">\n",
              "    <path d=\"M120-120v-720h720v720H120Zm60-500h600v-160H180v160Zm220 220h160v-160H400v160Zm0 220h160v-160H400v160ZM180-400h160v-160H180v160Zm440 0h160v-160H620v160ZM180-180h160v-160H180v160Zm440 0h160v-160H620v160Z\"/>\n",
              "  </svg>\n",
              "    </button>\n",
              "\n",
              "  <style>\n",
              "    .colab-df-container {\n",
              "      display:flex;\n",
              "      gap: 12px;\n",
              "    }\n",
              "\n",
              "    .colab-df-convert {\n",
              "      background-color: #E8F0FE;\n",
              "      border: none;\n",
              "      border-radius: 50%;\n",
              "      cursor: pointer;\n",
              "      display: none;\n",
              "      fill: #1967D2;\n",
              "      height: 32px;\n",
              "      padding: 0 0 0 0;\n",
              "      width: 32px;\n",
              "    }\n",
              "\n",
              "    .colab-df-convert:hover {\n",
              "      background-color: #E2EBFA;\n",
              "      box-shadow: 0px 1px 2px rgba(60, 64, 67, 0.3), 0px 1px 3px 1px rgba(60, 64, 67, 0.15);\n",
              "      fill: #174EA6;\n",
              "    }\n",
              "\n",
              "    .colab-df-buttons div {\n",
              "      margin-bottom: 4px;\n",
              "    }\n",
              "\n",
              "    [theme=dark] .colab-df-convert {\n",
              "      background-color: #3B4455;\n",
              "      fill: #D2E3FC;\n",
              "    }\n",
              "\n",
              "    [theme=dark] .colab-df-convert:hover {\n",
              "      background-color: #434B5C;\n",
              "      box-shadow: 0px 1px 3px 1px rgba(0, 0, 0, 0.15);\n",
              "      filter: drop-shadow(0px 1px 2px rgba(0, 0, 0, 0.3));\n",
              "      fill: #FFFFFF;\n",
              "    }\n",
              "  </style>\n",
              "\n",
              "    <script>\n",
              "      const buttonEl =\n",
              "        document.querySelector('#df-4d2076ce-68b8-47c3-9935-d3bdade5d95e button.colab-df-convert');\n",
              "      buttonEl.style.display =\n",
              "        google.colab.kernel.accessAllowed ? 'block' : 'none';\n",
              "\n",
              "      async function convertToInteractive(key) {\n",
              "        const element = document.querySelector('#df-4d2076ce-68b8-47c3-9935-d3bdade5d95e');\n",
              "        const dataTable =\n",
              "          await google.colab.kernel.invokeFunction('convertToInteractive',\n",
              "                                                    [key], {});\n",
              "        if (!dataTable) return;\n",
              "\n",
              "        const docLinkHtml = 'Like what you see? Visit the ' +\n",
              "          '<a target=\"_blank\" href=https://colab.research.google.com/notebooks/data_table.ipynb>data table notebook</a>'\n",
              "          + ' to learn more about interactive tables.';\n",
              "        element.innerHTML = '';\n",
              "        dataTable['output_type'] = 'display_data';\n",
              "        await google.colab.output.renderOutput(dataTable, element);\n",
              "        const docLink = document.createElement('div');\n",
              "        docLink.innerHTML = docLinkHtml;\n",
              "        element.appendChild(docLink);\n",
              "      }\n",
              "    </script>\n",
              "  </div>\n",
              "\n",
              "    </div>\n",
              "  </div>\n"
            ]
          },
          "metadata": {},
          "execution_count": 190
        }
      ]
    },
    {
      "cell_type": "code",
      "source": [
        "df.loc[((df[\"Estrato\"]<1) | (df[\"Estrato\"]>4)), \"Estrato\"] = promedio_estrato # Reemplazo el valor atipico del Estrato: 5, por el valor promedio del atributo."
      ],
      "metadata": {
        "id": "soVpkguuMGf_"
      },
      "execution_count": null,
      "outputs": []
    },
    {
      "cell_type": "markdown",
      "source": [
        "##**Para el atributo QSAT**"
      ],
      "metadata": {
        "id": "RloMH2H8Njj5"
      }
    },
    {
      "cell_type": "markdown",
      "source": [
        "#Valores atípicos de QSAT"
      ],
      "metadata": {
        "id": "TKesdzTiNs5t"
      }
    },
    {
      "cell_type": "code",
      "source": [
        "df.loc[(df[\"QSAT\"] == 0)] #Identifico las filas donde QSAT sea cero"
      ],
      "metadata": {
        "colab": {
          "base_uri": "https://localhost:8080/",
          "height": 53
        },
        "id": "TJs_5Fd2MGX4",
        "outputId": "57a64c8f-7240-486f-a4ac-7df846cb3022"
      },
      "execution_count": null,
      "outputs": [
        {
          "output_type": "execute_result",
          "data": {
            "text/plain": [
              "Empty DataFrame\n",
              "Columns: [NIC, Estrato, Nhab, Ingresos, Consumo, IndReca, QSAT]\n",
              "Index: []"
            ],
            "text/html": [
              "\n",
              "  <div id=\"df-45c72aab-58d6-4488-a79a-a441bd7d29d3\" class=\"colab-df-container\">\n",
              "    <div>\n",
              "<style scoped>\n",
              "    .dataframe tbody tr th:only-of-type {\n",
              "        vertical-align: middle;\n",
              "    }\n",
              "\n",
              "    .dataframe tbody tr th {\n",
              "        vertical-align: top;\n",
              "    }\n",
              "\n",
              "    .dataframe thead th {\n",
              "        text-align: right;\n",
              "    }\n",
              "</style>\n",
              "<table border=\"1\" class=\"dataframe\">\n",
              "  <thead>\n",
              "    <tr style=\"text-align: right;\">\n",
              "      <th></th>\n",
              "      <th>NIC</th>\n",
              "      <th>Estrato</th>\n",
              "      <th>Nhab</th>\n",
              "      <th>Ingresos</th>\n",
              "      <th>Consumo</th>\n",
              "      <th>IndReca</th>\n",
              "      <th>QSAT</th>\n",
              "    </tr>\n",
              "  </thead>\n",
              "  <tbody>\n",
              "  </tbody>\n",
              "</table>\n",
              "</div>\n",
              "    <div class=\"colab-df-buttons\">\n",
              "\n",
              "  <div class=\"colab-df-container\">\n",
              "    <button class=\"colab-df-convert\" onclick=\"convertToInteractive('df-45c72aab-58d6-4488-a79a-a441bd7d29d3')\"\n",
              "            title=\"Convert this dataframe to an interactive table.\"\n",
              "            style=\"display:none;\">\n",
              "\n",
              "  <svg xmlns=\"http://www.w3.org/2000/svg\" height=\"24px\" viewBox=\"0 -960 960 960\">\n",
              "    <path d=\"M120-120v-720h720v720H120Zm60-500h600v-160H180v160Zm220 220h160v-160H400v160Zm0 220h160v-160H400v160ZM180-400h160v-160H180v160Zm440 0h160v-160H620v160ZM180-180h160v-160H180v160Zm440 0h160v-160H620v160Z\"/>\n",
              "  </svg>\n",
              "    </button>\n",
              "\n",
              "  <style>\n",
              "    .colab-df-container {\n",
              "      display:flex;\n",
              "      gap: 12px;\n",
              "    }\n",
              "\n",
              "    .colab-df-convert {\n",
              "      background-color: #E8F0FE;\n",
              "      border: none;\n",
              "      border-radius: 50%;\n",
              "      cursor: pointer;\n",
              "      display: none;\n",
              "      fill: #1967D2;\n",
              "      height: 32px;\n",
              "      padding: 0 0 0 0;\n",
              "      width: 32px;\n",
              "    }\n",
              "\n",
              "    .colab-df-convert:hover {\n",
              "      background-color: #E2EBFA;\n",
              "      box-shadow: 0px 1px 2px rgba(60, 64, 67, 0.3), 0px 1px 3px 1px rgba(60, 64, 67, 0.15);\n",
              "      fill: #174EA6;\n",
              "    }\n",
              "\n",
              "    .colab-df-buttons div {\n",
              "      margin-bottom: 4px;\n",
              "    }\n",
              "\n",
              "    [theme=dark] .colab-df-convert {\n",
              "      background-color: #3B4455;\n",
              "      fill: #D2E3FC;\n",
              "    }\n",
              "\n",
              "    [theme=dark] .colab-df-convert:hover {\n",
              "      background-color: #434B5C;\n",
              "      box-shadow: 0px 1px 3px 1px rgba(0, 0, 0, 0.15);\n",
              "      filter: drop-shadow(0px 1px 2px rgba(0, 0, 0, 0.3));\n",
              "      fill: #FFFFFF;\n",
              "    }\n",
              "  </style>\n",
              "\n",
              "    <script>\n",
              "      const buttonEl =\n",
              "        document.querySelector('#df-45c72aab-58d6-4488-a79a-a441bd7d29d3 button.colab-df-convert');\n",
              "      buttonEl.style.display =\n",
              "        google.colab.kernel.accessAllowed ? 'block' : 'none';\n",
              "\n",
              "      async function convertToInteractive(key) {\n",
              "        const element = document.querySelector('#df-45c72aab-58d6-4488-a79a-a441bd7d29d3');\n",
              "        const dataTable =\n",
              "          await google.colab.kernel.invokeFunction('convertToInteractive',\n",
              "                                                    [key], {});\n",
              "        if (!dataTable) return;\n",
              "\n",
              "        const docLinkHtml = 'Like what you see? Visit the ' +\n",
              "          '<a target=\"_blank\" href=https://colab.research.google.com/notebooks/data_table.ipynb>data table notebook</a>'\n",
              "          + ' to learn more about interactive tables.';\n",
              "        element.innerHTML = '';\n",
              "        dataTable['output_type'] = 'display_data';\n",
              "        await google.colab.output.renderOutput(dataTable, element);\n",
              "        const docLink = document.createElement('div');\n",
              "        docLink.innerHTML = docLinkHtml;\n",
              "        element.appendChild(docLink);\n",
              "      }\n",
              "    </script>\n",
              "  </div>\n",
              "\n",
              "    </div>\n",
              "  </div>\n"
            ]
          },
          "metadata": {},
          "execution_count": 192
        }
      ]
    },
    {
      "cell_type": "code",
      "source": [
        "promedio_QSAT= round(df[\"QSAT\"].mean(), 2) #Hayo el promedio para el atributo QSAT y lo redondeo a dos cifras significativas."
      ],
      "metadata": {
        "id": "yBX5K-SUNzLy"
      },
      "execution_count": null,
      "outputs": []
    },
    {
      "cell_type": "code",
      "source": [
        "df.loc[df[\"QSAT\"] == 0, \"QSAT\"] = promedio_QSAT #Reemplazo los valores nulos de estrato con el valor promedio del atributo IndReca."
      ],
      "metadata": {
        "id": "vfcr5Ot4NzI9"
      },
      "execution_count": null,
      "outputs": []
    },
    {
      "cell_type": "markdown",
      "source": [
        "##**Para el atributo IndReca**"
      ],
      "metadata": {
        "id": "93uXvP2XOTZ5"
      }
    },
    {
      "cell_type": "markdown",
      "source": [
        "# Valores nulos de IndReca"
      ],
      "metadata": {
        "id": "o89ix20EOcXY"
      }
    },
    {
      "cell_type": "code",
      "source": [
        "promedio_IndReca= round(df[\"IndReca\"].mean(), 2) #Hayo el promedio para el atributo IndReca y lo redondeo a dos cifras significativas."
      ],
      "metadata": {
        "id": "GUqs2gu6NzDi"
      },
      "execution_count": null,
      "outputs": []
    },
    {
      "cell_type": "code",
      "source": [
        "df.loc[df[\"IndReca\"].isnull(), \"IndReca\"] = promedio_IndReca #Reemplazo los valores nulos de estrato con el valor promedio del atributo IndReca."
      ],
      "metadata": {
        "id": "t424LkRwNy82"
      },
      "execution_count": null,
      "outputs": []
    },
    {
      "cell_type": "markdown",
      "source": [
        "# Valores atipicos de IndReca"
      ],
      "metadata": {
        "id": "16VR6589Qhqo"
      }
    },
    {
      "cell_type": "markdown",
      "source": [
        "Ya que los valores de IndReca deben estar entre el 25% y el 75%, los valores atípicos serán reemplazados por el promedio entre 25-50% para valores por debajo del 25% y para valores superiores al 75% serán reemplazados por el promedio entre 50-75%. Para esto, primero usando la función \"percentile\" de numpy saco el 25, 50 y 75% del atributo IndReca del dataframe y los asigno como las variables Q1, Q2 y Q3 respectivamente. Luego, hayo los valores menores o iguales a 25% y los reemplazo por el promedio entre 25-50%. También lo realizo para los valores mayores o iguales a 75% y los reemplazo por el promedio entre 50-75%."
      ],
      "metadata": {
        "id": "6PG95IUdSGhw"
      }
    },
    {
      "cell_type": "code",
      "source": [
        "# Nombro las variables Q1, Q2 y Q3 para los percentiles de 25, 50 y 75% respectivamente de el IndReca\n",
        "Q1 = np.percentile(df.IndReca, 25)\n",
        "Q2 = np.percentile(df.IndReca, 50)\n",
        "Q3 = np.percentile(df.IndReca, 75)"
      ],
      "metadata": {
        "id": "O53e2vmtQkat"
      },
      "execution_count": null,
      "outputs": []
    },
    {
      "cell_type": "code",
      "source": [
        "df.loc[df[\"IndReca\"] <= Q1, \"IndReca\"] = mean([Q1, Q2]) #Se haya y reemplaza los valores de IndReca que están por debajo del percentil 25% con el valor promedio entre 25-50%"
      ],
      "metadata": {
        "id": "WBg4cYYlQkTG"
      },
      "execution_count": null,
      "outputs": []
    },
    {
      "cell_type": "code",
      "source": [
        "df.loc[df[\"IndReca\"] >= Q3, \"IndReca\"] = mean([Q2, Q3]) #Se haya y reemplaza los valores de IndReca que están por encima del percentil 75% con el valor promedio entre 50-75%"
      ],
      "metadata": {
        "id": "g7MXzEf5eifQ"
      },
      "execution_count": null,
      "outputs": []
    },
    {
      "cell_type": "markdown",
      "source": [
        "Finalmente, valido que no tengo valores nulos con la variable valores_nulos y, que además, todos los atributos cumplan con las políticas de sustitución de inconsistencia usando la función describe()"
      ],
      "metadata": {
        "id": "LPwaqAd7ZV_3"
      }
    },
    {
      "cell_type": "code",
      "source": [
        "print(valores_nulos)"
      ],
      "metadata": {
        "colab": {
          "base_uri": "https://localhost:8080/"
        },
        "id": "w7McOFnhacs3",
        "outputId": "2481d15e-485c-4d7d-fbf8-e867efe82495"
      },
      "execution_count": null,
      "outputs": [
        {
          "output_type": "stream",
          "name": "stdout",
          "text": [
            "NIC         0\n",
            "Estrato     0\n",
            "Nhab        0\n",
            "Ingresos    0\n",
            "Consumo     0\n",
            "IndReca     0\n",
            "QSAT        0\n",
            "dtype: int64\n"
          ]
        }
      ]
    },
    {
      "cell_type": "code",
      "source": [
        "df.describe()"
      ],
      "metadata": {
        "colab": {
          "base_uri": "https://localhost:8080/",
          "height": 300
        },
        "id": "gPBSdEFUQkPw",
        "outputId": "3b1de3a6-84c1-4b08-d43c-0e588a255498"
      },
      "execution_count": null,
      "outputs": [
        {
          "output_type": "execute_result",
          "data": {
            "text/plain": [
              "                NIC       Estrato          Nhab      Ingresos       Consumo  \\\n",
              "count  2.191700e+04  21917.000000  21917.000000  21917.000000  21917.000000   \n",
              "mean   2.117604e+06      2.513711      4.006981      7.063782    304.436103   \n",
              "std    5.108147e+05      1.111775      1.414729      4.089644     42.673752   \n",
              "min    1.234686e+06      1.000000      2.000000      1.480000    235.000000   \n",
              "25%    1.678706e+06      2.000000      3.000000      3.640000    272.000000   \n",
              "50%    2.120192e+06      3.000000      4.000000      6.300000    302.000000   \n",
              "75%    2.558549e+06      3.000000      5.000000     10.430000    344.000000   \n",
              "max    2.999862e+06      4.000000      6.000000     16.730000    390.000000   \n",
              "\n",
              "            IndReca          QSAT  \n",
              "count  21917.000000  21917.000000  \n",
              "mean       0.297894      2.949172  \n",
              "std        0.046765      1.155652  \n",
              "min        0.250000      1.000000  \n",
              "25%        0.250000      2.000000  \n",
              "50%        0.300000      2.900000  \n",
              "75%        0.350000      3.900000  \n",
              "max        0.380000      4.900000  "
            ],
            "text/html": [
              "\n",
              "  <div id=\"df-36fececd-a5d2-4e0a-ad99-443d0c3c32b3\" class=\"colab-df-container\">\n",
              "    <div>\n",
              "<style scoped>\n",
              "    .dataframe tbody tr th:only-of-type {\n",
              "        vertical-align: middle;\n",
              "    }\n",
              "\n",
              "    .dataframe tbody tr th {\n",
              "        vertical-align: top;\n",
              "    }\n",
              "\n",
              "    .dataframe thead th {\n",
              "        text-align: right;\n",
              "    }\n",
              "</style>\n",
              "<table border=\"1\" class=\"dataframe\">\n",
              "  <thead>\n",
              "    <tr style=\"text-align: right;\">\n",
              "      <th></th>\n",
              "      <th>NIC</th>\n",
              "      <th>Estrato</th>\n",
              "      <th>Nhab</th>\n",
              "      <th>Ingresos</th>\n",
              "      <th>Consumo</th>\n",
              "      <th>IndReca</th>\n",
              "      <th>QSAT</th>\n",
              "    </tr>\n",
              "  </thead>\n",
              "  <tbody>\n",
              "    <tr>\n",
              "      <th>count</th>\n",
              "      <td>2.191700e+04</td>\n",
              "      <td>21917.000000</td>\n",
              "      <td>21917.000000</td>\n",
              "      <td>21917.000000</td>\n",
              "      <td>21917.000000</td>\n",
              "      <td>21917.000000</td>\n",
              "      <td>21917.000000</td>\n",
              "    </tr>\n",
              "    <tr>\n",
              "      <th>mean</th>\n",
              "      <td>2.117604e+06</td>\n",
              "      <td>2.513711</td>\n",
              "      <td>4.006981</td>\n",
              "      <td>7.063782</td>\n",
              "      <td>304.436103</td>\n",
              "      <td>0.297894</td>\n",
              "      <td>2.949172</td>\n",
              "    </tr>\n",
              "    <tr>\n",
              "      <th>std</th>\n",
              "      <td>5.108147e+05</td>\n",
              "      <td>1.111775</td>\n",
              "      <td>1.414729</td>\n",
              "      <td>4.089644</td>\n",
              "      <td>42.673752</td>\n",
              "      <td>0.046765</td>\n",
              "      <td>1.155652</td>\n",
              "    </tr>\n",
              "    <tr>\n",
              "      <th>min</th>\n",
              "      <td>1.234686e+06</td>\n",
              "      <td>1.000000</td>\n",
              "      <td>2.000000</td>\n",
              "      <td>1.480000</td>\n",
              "      <td>235.000000</td>\n",
              "      <td>0.250000</td>\n",
              "      <td>1.000000</td>\n",
              "    </tr>\n",
              "    <tr>\n",
              "      <th>25%</th>\n",
              "      <td>1.678706e+06</td>\n",
              "      <td>2.000000</td>\n",
              "      <td>3.000000</td>\n",
              "      <td>3.640000</td>\n",
              "      <td>272.000000</td>\n",
              "      <td>0.250000</td>\n",
              "      <td>2.000000</td>\n",
              "    </tr>\n",
              "    <tr>\n",
              "      <th>50%</th>\n",
              "      <td>2.120192e+06</td>\n",
              "      <td>3.000000</td>\n",
              "      <td>4.000000</td>\n",
              "      <td>6.300000</td>\n",
              "      <td>302.000000</td>\n",
              "      <td>0.300000</td>\n",
              "      <td>2.900000</td>\n",
              "    </tr>\n",
              "    <tr>\n",
              "      <th>75%</th>\n",
              "      <td>2.558549e+06</td>\n",
              "      <td>3.000000</td>\n",
              "      <td>5.000000</td>\n",
              "      <td>10.430000</td>\n",
              "      <td>344.000000</td>\n",
              "      <td>0.350000</td>\n",
              "      <td>3.900000</td>\n",
              "    </tr>\n",
              "    <tr>\n",
              "      <th>max</th>\n",
              "      <td>2.999862e+06</td>\n",
              "      <td>4.000000</td>\n",
              "      <td>6.000000</td>\n",
              "      <td>16.730000</td>\n",
              "      <td>390.000000</td>\n",
              "      <td>0.380000</td>\n",
              "      <td>4.900000</td>\n",
              "    </tr>\n",
              "  </tbody>\n",
              "</table>\n",
              "</div>\n",
              "    <div class=\"colab-df-buttons\">\n",
              "\n",
              "  <div class=\"colab-df-container\">\n",
              "    <button class=\"colab-df-convert\" onclick=\"convertToInteractive('df-36fececd-a5d2-4e0a-ad99-443d0c3c32b3')\"\n",
              "            title=\"Convert this dataframe to an interactive table.\"\n",
              "            style=\"display:none;\">\n",
              "\n",
              "  <svg xmlns=\"http://www.w3.org/2000/svg\" height=\"24px\" viewBox=\"0 -960 960 960\">\n",
              "    <path d=\"M120-120v-720h720v720H120Zm60-500h600v-160H180v160Zm220 220h160v-160H400v160Zm0 220h160v-160H400v160ZM180-400h160v-160H180v160Zm440 0h160v-160H620v160ZM180-180h160v-160H180v160Zm440 0h160v-160H620v160Z\"/>\n",
              "  </svg>\n",
              "    </button>\n",
              "\n",
              "  <style>\n",
              "    .colab-df-container {\n",
              "      display:flex;\n",
              "      gap: 12px;\n",
              "    }\n",
              "\n",
              "    .colab-df-convert {\n",
              "      background-color: #E8F0FE;\n",
              "      border: none;\n",
              "      border-radius: 50%;\n",
              "      cursor: pointer;\n",
              "      display: none;\n",
              "      fill: #1967D2;\n",
              "      height: 32px;\n",
              "      padding: 0 0 0 0;\n",
              "      width: 32px;\n",
              "    }\n",
              "\n",
              "    .colab-df-convert:hover {\n",
              "      background-color: #E2EBFA;\n",
              "      box-shadow: 0px 1px 2px rgba(60, 64, 67, 0.3), 0px 1px 3px 1px rgba(60, 64, 67, 0.15);\n",
              "      fill: #174EA6;\n",
              "    }\n",
              "\n",
              "    .colab-df-buttons div {\n",
              "      margin-bottom: 4px;\n",
              "    }\n",
              "\n",
              "    [theme=dark] .colab-df-convert {\n",
              "      background-color: #3B4455;\n",
              "      fill: #D2E3FC;\n",
              "    }\n",
              "\n",
              "    [theme=dark] .colab-df-convert:hover {\n",
              "      background-color: #434B5C;\n",
              "      box-shadow: 0px 1px 3px 1px rgba(0, 0, 0, 0.15);\n",
              "      filter: drop-shadow(0px 1px 2px rgba(0, 0, 0, 0.3));\n",
              "      fill: #FFFFFF;\n",
              "    }\n",
              "  </style>\n",
              "\n",
              "    <script>\n",
              "      const buttonEl =\n",
              "        document.querySelector('#df-36fececd-a5d2-4e0a-ad99-443d0c3c32b3 button.colab-df-convert');\n",
              "      buttonEl.style.display =\n",
              "        google.colab.kernel.accessAllowed ? 'block' : 'none';\n",
              "\n",
              "      async function convertToInteractive(key) {\n",
              "        const element = document.querySelector('#df-36fececd-a5d2-4e0a-ad99-443d0c3c32b3');\n",
              "        const dataTable =\n",
              "          await google.colab.kernel.invokeFunction('convertToInteractive',\n",
              "                                                    [key], {});\n",
              "        if (!dataTable) return;\n",
              "\n",
              "        const docLinkHtml = 'Like what you see? Visit the ' +\n",
              "          '<a target=\"_blank\" href=https://colab.research.google.com/notebooks/data_table.ipynb>data table notebook</a>'\n",
              "          + ' to learn more about interactive tables.';\n",
              "        element.innerHTML = '';\n",
              "        dataTable['output_type'] = 'display_data';\n",
              "        await google.colab.output.renderOutput(dataTable, element);\n",
              "        const docLink = document.createElement('div');\n",
              "        docLink.innerHTML = docLinkHtml;\n",
              "        element.appendChild(docLink);\n",
              "      }\n",
              "    </script>\n",
              "  </div>\n",
              "\n",
              "\n",
              "<div id=\"df-348b32e0-6209-4f1c-9eda-75e1a8a7ebbc\">\n",
              "  <button class=\"colab-df-quickchart\" onclick=\"quickchart('df-348b32e0-6209-4f1c-9eda-75e1a8a7ebbc')\"\n",
              "            title=\"Suggest charts.\"\n",
              "            style=\"display:none;\">\n",
              "\n",
              "<svg xmlns=\"http://www.w3.org/2000/svg\" height=\"24px\"viewBox=\"0 0 24 24\"\n",
              "     width=\"24px\">\n",
              "    <g>\n",
              "        <path d=\"M19 3H5c-1.1 0-2 .9-2 2v14c0 1.1.9 2 2 2h14c1.1 0 2-.9 2-2V5c0-1.1-.9-2-2-2zM9 17H7v-7h2v7zm4 0h-2V7h2v10zm4 0h-2v-4h2v4z\"/>\n",
              "    </g>\n",
              "</svg>\n",
              "  </button>\n",
              "\n",
              "<style>\n",
              "  .colab-df-quickchart {\n",
              "    background-color: #E8F0FE;\n",
              "    border: none;\n",
              "    border-radius: 50%;\n",
              "    cursor: pointer;\n",
              "    display: none;\n",
              "    fill: #1967D2;\n",
              "    height: 32px;\n",
              "    padding: 0 0 0 0;\n",
              "    width: 32px;\n",
              "  }\n",
              "\n",
              "  .colab-df-quickchart:hover {\n",
              "    background-color: #E2EBFA;\n",
              "    box-shadow: 0px 1px 2px rgba(60, 64, 67, 0.3), 0px 1px 3px 1px rgba(60, 64, 67, 0.15);\n",
              "    fill: #174EA6;\n",
              "  }\n",
              "\n",
              "  [theme=dark] .colab-df-quickchart {\n",
              "    background-color: #3B4455;\n",
              "    fill: #D2E3FC;\n",
              "  }\n",
              "\n",
              "  [theme=dark] .colab-df-quickchart:hover {\n",
              "    background-color: #434B5C;\n",
              "    box-shadow: 0px 1px 3px 1px rgba(0, 0, 0, 0.15);\n",
              "    filter: drop-shadow(0px 1px 2px rgba(0, 0, 0, 0.3));\n",
              "    fill: #FFFFFF;\n",
              "  }\n",
              "</style>\n",
              "\n",
              "  <script>\n",
              "    async function quickchart(key) {\n",
              "      const charts = await google.colab.kernel.invokeFunction(\n",
              "          'suggestCharts', [key], {});\n",
              "    }\n",
              "    (() => {\n",
              "      let quickchartButtonEl =\n",
              "        document.querySelector('#df-348b32e0-6209-4f1c-9eda-75e1a8a7ebbc button');\n",
              "      quickchartButtonEl.style.display =\n",
              "        google.colab.kernel.accessAllowed ? 'block' : 'none';\n",
              "    })();\n",
              "  </script>\n",
              "</div>\n",
              "    </div>\n",
              "  </div>\n"
            ]
          },
          "metadata": {},
          "execution_count": 201
        }
      ]
    },
    {
      "cell_type": "markdown",
      "source": [
        "Validando,\n",
        "\n",
        "*   No tengo valores nulos.\n",
        "*   Los predios de los Estratos tienen como valor máximo 4 y como valor mínimo 1, por lo que los valores se encuentran dentro del rango.\n",
        "*   El Consumo tiene de valor máximo 390 kWh y como valor mínimo 235 kWh, y ya que estos rangos están entre 200 - 420 kWh, se cumplen con las políticas de sustitución de inconsistencias.\n",
        "*   También, el QSAT tiene de valor máximo 4.9 y de valor mínimo 1.0, y ya que estos rangos están entre 1 - 5, se cumplen con las políticas de sustitución de inconsistencias.\n",
        "*   Finalmente, los valores de IndReca están entre entre el promedio de 25-50% que es 0.2 y el 50-75% que es 0.4\n",
        "\n"
      ],
      "metadata": {
        "id": "EOqIcxMQaKdR"
      }
    },
    {
      "cell_type": "code",
      "source": [
        "df.to_csv(\"ds-energy-consumers-depurado-AngelicaMoreno.csv\", sep = \",\", index = False)"
      ],
      "metadata": {
        "id": "V17AWVtoaKRf"
      },
      "execution_count": null,
      "outputs": []
    }
  ]
}