{
  "nbformat": 4,
  "nbformat_minor": 0,
  "metadata": {
    "colab": {
      "provenance": [],
      "authorship_tag": "ABX9TyMeOwwtKpRouvsccqhRbh35",
      "include_colab_link": true
    },
    "kernelspec": {
      "name": "python3",
      "display_name": "Python 3"
    },
    "language_info": {
      "name": "python"
    }
  },
  "cells": [
    {
      "cell_type": "markdown",
      "metadata": {
        "id": "view-in-github",
        "colab_type": "text"
      },
      "source": [
        "<a href=\"https://colab.research.google.com/github/angemoreno/Diplomado/blob/main/Transfusion_de_sangre.ipynb\" target=\"_parent\"><img src=\"https://colab.research.google.com/assets/colab-badge.svg\" alt=\"Open In Colab\"/></a>"
      ]
    },
    {
      "cell_type": "markdown",
      "source": [
        "# **Entregable Modulo 3**\n",
        "\n",
        "A lo largo del tiempo la donación de sangre ha sido un regalo para muchas personas que lo necesitan para sus vidas, por lo que predecir el suministro de sangre es un problema grave y recurrente para los administradores de recolección de sangre.\n",
        "\n",
        "El aprendizaje automático supervisado nos ayuda a aprender los patrones en los datos y así hacer predicciones futuras en la donación de sangre y, por lo tanto, salvar más vidas.\n",
        "\n",
        "Tu tarea será realizar un análisis exploratorio de las variables predictoras según la variable objetivo, que es si la persona donó o no sangre y además predecir (al menos entrenar tres modelos diferentes) si un donante de sangre donará dentro de un período de tiempo determinado:\n",
        "\n",
        "\n",
        "\n",
        "1.   Cargar los datos de transfusión en Google Colab y mostrar los 5 primeros\n",
        "individuos.\n",
        "2.   Imprimir un resumen de la información de los datos. Además, cambiar el\n",
        "nombre de la variable objetivo.\n",
        "3.   De la variable objetivo (0 es donará y 1 no donará), realizar un diagrama de barras para ver la distribución de la variable objetivo.\n",
        "4.   Realizar diagramas de cajas y bigotes de recencia (recency), frecuencia (frecuency), monetaria (monetary), tiempo (times), según la donación.\n",
        "5.   Seleccionar el conjunto de entrenamiento (75%) y el conjunto de prueba\n",
        "(25%). Además, mortrar los 5 primeros individuos del conjunto de\n",
        "entrenamiento.\n",
        "6.   Entrenar al menos 3 modelos clasificatorios diferentes y calcular sus\n",
        "respectivas métricas.\n",
        "7.   Escoger el mejor modelo de clasificación según las métricas vistas, y\n",
        "argumentar la elección.\n",
        "8.   Identificar los puntos a favor y en contra de las otras alternativas planteadas,\n",
        "pero no seleccionadas.\n",
        "\n",
        "\n"
      ],
      "metadata": {
        "id": "9Y5cvJLkPxSD"
      }
    },
    {
      "cell_type": "code",
      "source": [
        "#Importo las librerías\n",
        "import pandas as pd\n",
        "import numpy as np\n",
        "import matplotlib.pyplot as plt\n",
        "import seaborn as sns\n",
        "from sklearn.model_selection import train_test_split"
      ],
      "metadata": {
        "id": "NxFTMvx8BMb3"
      },
      "execution_count": null,
      "outputs": []
    },
    {
      "cell_type": "code",
      "execution_count": null,
      "metadata": {
        "colab": {
          "base_uri": "https://localhost:8080/"
        },
        "id": "278m9ixA-Z8_",
        "outputId": "18cf56d7-f8a6-47af-8494-f4e4cb2edfbc"
      },
      "outputs": [
        {
          "output_type": "stream",
          "name": "stdout",
          "text": [
            "Drive already mounted at /content/drive; to attempt to forcibly remount, call drive.mount(\"/content/drive\", force_remount=True).\n"
          ]
        }
      ],
      "source": [
        "#Para cargar el documento desde drive y cargo los datos de transfusión que se encuentra en la carpeta de datos de drive\n",
        "from google.colab import drive\n",
        "drive.mount('/content/drive')\n",
        "transfusion = pd.read_csv(\"/content/drive/MyDrive/datos/transfusion.data\")"
      ]
    },
    {
      "cell_type": "code",
      "source": [
        "#Cargo los 5 primeros individuos\n",
        "transfusion.head()"
      ],
      "metadata": {
        "colab": {
          "base_uri": "https://localhost:8080/",
          "height": 206
        },
        "id": "dLoXQ6Mi-zlK",
        "outputId": "9c49ae7d-ce10-43fc-e9e2-85165f32e8fe"
      },
      "execution_count": null,
      "outputs": [
        {
          "output_type": "execute_result",
          "data": {
            "text/plain": [
              "   Recency (months)  Frequency (times)  Monetary (c.c. blood)  Time (months)  \\\n",
              "0                 2                 50                  12500             98   \n",
              "1                 0                 13                   3250             28   \n",
              "2                 1                 16                   4000             35   \n",
              "3                 2                 20                   5000             45   \n",
              "4                 1                 24                   6000             77   \n",
              "\n",
              "   whether he/she donated blood in March 2007  \n",
              "0                                           1  \n",
              "1                                           1  \n",
              "2                                           1  \n",
              "3                                           1  \n",
              "4                                           0  "
            ],
            "text/html": [
              "\n",
              "  <div id=\"df-64c8cfc1-3c2c-45b8-b9cc-5b35d38cf24a\" class=\"colab-df-container\">\n",
              "    <div>\n",
              "<style scoped>\n",
              "    .dataframe tbody tr th:only-of-type {\n",
              "        vertical-align: middle;\n",
              "    }\n",
              "\n",
              "    .dataframe tbody tr th {\n",
              "        vertical-align: top;\n",
              "    }\n",
              "\n",
              "    .dataframe thead th {\n",
              "        text-align: right;\n",
              "    }\n",
              "</style>\n",
              "<table border=\"1\" class=\"dataframe\">\n",
              "  <thead>\n",
              "    <tr style=\"text-align: right;\">\n",
              "      <th></th>\n",
              "      <th>Recency (months)</th>\n",
              "      <th>Frequency (times)</th>\n",
              "      <th>Monetary (c.c. blood)</th>\n",
              "      <th>Time (months)</th>\n",
              "      <th>whether he/she donated blood in March 2007</th>\n",
              "    </tr>\n",
              "  </thead>\n",
              "  <tbody>\n",
              "    <tr>\n",
              "      <th>0</th>\n",
              "      <td>2</td>\n",
              "      <td>50</td>\n",
              "      <td>12500</td>\n",
              "      <td>98</td>\n",
              "      <td>1</td>\n",
              "    </tr>\n",
              "    <tr>\n",
              "      <th>1</th>\n",
              "      <td>0</td>\n",
              "      <td>13</td>\n",
              "      <td>3250</td>\n",
              "      <td>28</td>\n",
              "      <td>1</td>\n",
              "    </tr>\n",
              "    <tr>\n",
              "      <th>2</th>\n",
              "      <td>1</td>\n",
              "      <td>16</td>\n",
              "      <td>4000</td>\n",
              "      <td>35</td>\n",
              "      <td>1</td>\n",
              "    </tr>\n",
              "    <tr>\n",
              "      <th>3</th>\n",
              "      <td>2</td>\n",
              "      <td>20</td>\n",
              "      <td>5000</td>\n",
              "      <td>45</td>\n",
              "      <td>1</td>\n",
              "    </tr>\n",
              "    <tr>\n",
              "      <th>4</th>\n",
              "      <td>1</td>\n",
              "      <td>24</td>\n",
              "      <td>6000</td>\n",
              "      <td>77</td>\n",
              "      <td>0</td>\n",
              "    </tr>\n",
              "  </tbody>\n",
              "</table>\n",
              "</div>\n",
              "    <div class=\"colab-df-buttons\">\n",
              "\n",
              "  <div class=\"colab-df-container\">\n",
              "    <button class=\"colab-df-convert\" onclick=\"convertToInteractive('df-64c8cfc1-3c2c-45b8-b9cc-5b35d38cf24a')\"\n",
              "            title=\"Convert this dataframe to an interactive table.\"\n",
              "            style=\"display:none;\">\n",
              "\n",
              "  <svg xmlns=\"http://www.w3.org/2000/svg\" height=\"24px\" viewBox=\"0 -960 960 960\">\n",
              "    <path d=\"M120-120v-720h720v720H120Zm60-500h600v-160H180v160Zm220 220h160v-160H400v160Zm0 220h160v-160H400v160ZM180-400h160v-160H180v160Zm440 0h160v-160H620v160ZM180-180h160v-160H180v160Zm440 0h160v-160H620v160Z\"/>\n",
              "  </svg>\n",
              "    </button>\n",
              "\n",
              "  <style>\n",
              "    .colab-df-container {\n",
              "      display:flex;\n",
              "      gap: 12px;\n",
              "    }\n",
              "\n",
              "    .colab-df-convert {\n",
              "      background-color: #E8F0FE;\n",
              "      border: none;\n",
              "      border-radius: 50%;\n",
              "      cursor: pointer;\n",
              "      display: none;\n",
              "      fill: #1967D2;\n",
              "      height: 32px;\n",
              "      padding: 0 0 0 0;\n",
              "      width: 32px;\n",
              "    }\n",
              "\n",
              "    .colab-df-convert:hover {\n",
              "      background-color: #E2EBFA;\n",
              "      box-shadow: 0px 1px 2px rgba(60, 64, 67, 0.3), 0px 1px 3px 1px rgba(60, 64, 67, 0.15);\n",
              "      fill: #174EA6;\n",
              "    }\n",
              "\n",
              "    .colab-df-buttons div {\n",
              "      margin-bottom: 4px;\n",
              "    }\n",
              "\n",
              "    [theme=dark] .colab-df-convert {\n",
              "      background-color: #3B4455;\n",
              "      fill: #D2E3FC;\n",
              "    }\n",
              "\n",
              "    [theme=dark] .colab-df-convert:hover {\n",
              "      background-color: #434B5C;\n",
              "      box-shadow: 0px 1px 3px 1px rgba(0, 0, 0, 0.15);\n",
              "      filter: drop-shadow(0px 1px 2px rgba(0, 0, 0, 0.3));\n",
              "      fill: #FFFFFF;\n",
              "    }\n",
              "  </style>\n",
              "\n",
              "    <script>\n",
              "      const buttonEl =\n",
              "        document.querySelector('#df-64c8cfc1-3c2c-45b8-b9cc-5b35d38cf24a button.colab-df-convert');\n",
              "      buttonEl.style.display =\n",
              "        google.colab.kernel.accessAllowed ? 'block' : 'none';\n",
              "\n",
              "      async function convertToInteractive(key) {\n",
              "        const element = document.querySelector('#df-64c8cfc1-3c2c-45b8-b9cc-5b35d38cf24a');\n",
              "        const dataTable =\n",
              "          await google.colab.kernel.invokeFunction('convertToInteractive',\n",
              "                                                    [key], {});\n",
              "        if (!dataTable) return;\n",
              "\n",
              "        const docLinkHtml = 'Like what you see? Visit the ' +\n",
              "          '<a target=\"_blank\" href=https://colab.research.google.com/notebooks/data_table.ipynb>data table notebook</a>'\n",
              "          + ' to learn more about interactive tables.';\n",
              "        element.innerHTML = '';\n",
              "        dataTable['output_type'] = 'display_data';\n",
              "        await google.colab.output.renderOutput(dataTable, element);\n",
              "        const docLink = document.createElement('div');\n",
              "        docLink.innerHTML = docLinkHtml;\n",
              "        element.appendChild(docLink);\n",
              "      }\n",
              "    </script>\n",
              "  </div>\n",
              "\n",
              "\n",
              "<div id=\"df-cbfdace0-7cb7-465f-9e5c-1d1ca3794306\">\n",
              "  <button class=\"colab-df-quickchart\" onclick=\"quickchart('df-cbfdace0-7cb7-465f-9e5c-1d1ca3794306')\"\n",
              "            title=\"Suggest charts.\"\n",
              "            style=\"display:none;\">\n",
              "\n",
              "<svg xmlns=\"http://www.w3.org/2000/svg\" height=\"24px\"viewBox=\"0 0 24 24\"\n",
              "     width=\"24px\">\n",
              "    <g>\n",
              "        <path d=\"M19 3H5c-1.1 0-2 .9-2 2v14c0 1.1.9 2 2 2h14c1.1 0 2-.9 2-2V5c0-1.1-.9-2-2-2zM9 17H7v-7h2v7zm4 0h-2V7h2v10zm4 0h-2v-4h2v4z\"/>\n",
              "    </g>\n",
              "</svg>\n",
              "  </button>\n",
              "\n",
              "<style>\n",
              "  .colab-df-quickchart {\n",
              "      --bg-color: #E8F0FE;\n",
              "      --fill-color: #1967D2;\n",
              "      --hover-bg-color: #E2EBFA;\n",
              "      --hover-fill-color: #174EA6;\n",
              "      --disabled-fill-color: #AAA;\n",
              "      --disabled-bg-color: #DDD;\n",
              "  }\n",
              "\n",
              "  [theme=dark] .colab-df-quickchart {\n",
              "      --bg-color: #3B4455;\n",
              "      --fill-color: #D2E3FC;\n",
              "      --hover-bg-color: #434B5C;\n",
              "      --hover-fill-color: #FFFFFF;\n",
              "      --disabled-bg-color: #3B4455;\n",
              "      --disabled-fill-color: #666;\n",
              "  }\n",
              "\n",
              "  .colab-df-quickchart {\n",
              "    background-color: var(--bg-color);\n",
              "    border: none;\n",
              "    border-radius: 50%;\n",
              "    cursor: pointer;\n",
              "    display: none;\n",
              "    fill: var(--fill-color);\n",
              "    height: 32px;\n",
              "    padding: 0;\n",
              "    width: 32px;\n",
              "  }\n",
              "\n",
              "  .colab-df-quickchart:hover {\n",
              "    background-color: var(--hover-bg-color);\n",
              "    box-shadow: 0 1px 2px rgba(60, 64, 67, 0.3), 0 1px 3px 1px rgba(60, 64, 67, 0.15);\n",
              "    fill: var(--button-hover-fill-color);\n",
              "  }\n",
              "\n",
              "  .colab-df-quickchart-complete:disabled,\n",
              "  .colab-df-quickchart-complete:disabled:hover {\n",
              "    background-color: var(--disabled-bg-color);\n",
              "    fill: var(--disabled-fill-color);\n",
              "    box-shadow: none;\n",
              "  }\n",
              "\n",
              "  .colab-df-spinner {\n",
              "    border: 2px solid var(--fill-color);\n",
              "    border-color: transparent;\n",
              "    border-bottom-color: var(--fill-color);\n",
              "    animation:\n",
              "      spin 1s steps(1) infinite;\n",
              "  }\n",
              "\n",
              "  @keyframes spin {\n",
              "    0% {\n",
              "      border-color: transparent;\n",
              "      border-bottom-color: var(--fill-color);\n",
              "      border-left-color: var(--fill-color);\n",
              "    }\n",
              "    20% {\n",
              "      border-color: transparent;\n",
              "      border-left-color: var(--fill-color);\n",
              "      border-top-color: var(--fill-color);\n",
              "    }\n",
              "    30% {\n",
              "      border-color: transparent;\n",
              "      border-left-color: var(--fill-color);\n",
              "      border-top-color: var(--fill-color);\n",
              "      border-right-color: var(--fill-color);\n",
              "    }\n",
              "    40% {\n",
              "      border-color: transparent;\n",
              "      border-right-color: var(--fill-color);\n",
              "      border-top-color: var(--fill-color);\n",
              "    }\n",
              "    60% {\n",
              "      border-color: transparent;\n",
              "      border-right-color: var(--fill-color);\n",
              "    }\n",
              "    80% {\n",
              "      border-color: transparent;\n",
              "      border-right-color: var(--fill-color);\n",
              "      border-bottom-color: var(--fill-color);\n",
              "    }\n",
              "    90% {\n",
              "      border-color: transparent;\n",
              "      border-bottom-color: var(--fill-color);\n",
              "    }\n",
              "  }\n",
              "</style>\n",
              "\n",
              "  <script>\n",
              "    async function quickchart(key) {\n",
              "      const quickchartButtonEl =\n",
              "        document.querySelector('#' + key + ' button');\n",
              "      quickchartButtonEl.disabled = true;  // To prevent multiple clicks.\n",
              "      quickchartButtonEl.classList.add('colab-df-spinner');\n",
              "      try {\n",
              "        const charts = await google.colab.kernel.invokeFunction(\n",
              "            'suggestCharts', [key], {});\n",
              "      } catch (error) {\n",
              "        console.error('Error during call to suggestCharts:', error);\n",
              "      }\n",
              "      quickchartButtonEl.classList.remove('colab-df-spinner');\n",
              "      quickchartButtonEl.classList.add('colab-df-quickchart-complete');\n",
              "    }\n",
              "    (() => {\n",
              "      let quickchartButtonEl =\n",
              "        document.querySelector('#df-cbfdace0-7cb7-465f-9e5c-1d1ca3794306 button');\n",
              "      quickchartButtonEl.style.display =\n",
              "        google.colab.kernel.accessAllowed ? 'block' : 'none';\n",
              "    })();\n",
              "  </script>\n",
              "</div>\n",
              "    </div>\n",
              "  </div>\n"
            ]
          },
          "metadata": {},
          "execution_count": 380
        }
      ]
    },
    {
      "cell_type": "code",
      "source": [
        "# Imprimo un resumen de la información del conjunto de datos, veo que los 5 datos son numéricos\n",
        "transfusion_info = transfusion.info()\n",
        "print(transfusion_info)"
      ],
      "metadata": {
        "colab": {
          "base_uri": "https://localhost:8080/"
        },
        "id": "_ox0nsAX-ziG",
        "outputId": "2a6a1782-ffd1-45a3-84e9-766162d364cc"
      },
      "execution_count": null,
      "outputs": [
        {
          "output_type": "stream",
          "name": "stdout",
          "text": [
            "<class 'pandas.core.frame.DataFrame'>\n",
            "RangeIndex: 748 entries, 0 to 747\n",
            "Data columns (total 5 columns):\n",
            " #   Column                                      Non-Null Count  Dtype\n",
            "---  ------                                      --------------  -----\n",
            " 0   Recency (months)                            748 non-null    int64\n",
            " 1   Frequency (times)                           748 non-null    int64\n",
            " 2   Monetary (c.c. blood)                       748 non-null    int64\n",
            " 3   Time (months)                               748 non-null    int64\n",
            " 4   whether he/she donated blood in March 2007  748 non-null    int64\n",
            "dtypes: int64(5)\n",
            "memory usage: 29.3 KB\n",
            "None\n"
          ]
        }
      ]
    },
    {
      "cell_type": "code",
      "source": [
        "#También, valido si tengo datos faltantes y encuentro que no hay datos faltantes\n",
        "transfusion.isnull().sum()"
      ],
      "metadata": {
        "colab": {
          "base_uri": "https://localhost:8080/"
        },
        "id": "MIHO_ULx-zeW",
        "outputId": "a2e5584f-5a3a-4bcf-8f99-48734962b271"
      },
      "execution_count": null,
      "outputs": [
        {
          "output_type": "execute_result",
          "data": {
            "text/plain": [
              "Recency (months)                              0\n",
              "Frequency (times)                             0\n",
              "Monetary (c.c. blood)                         0\n",
              "Time (months)                                 0\n",
              "whether he/she donated blood in March 2007    0\n",
              "dtype: int64"
            ]
          },
          "metadata": {},
          "execution_count": 382
        }
      ]
    },
    {
      "cell_type": "code",
      "source": [
        "# Renombro la variable objetivo por \"Donara\", esta variable la dejaré como Donara 2007 y para facilidad de uso, también cambiaré el nombre de las otras columnas\n",
        "transfusion.rename(columns={\"whether he/she donated blood in March 2007\":\"Donara_2007\",\n",
        "                             \"Recency (months)\":\"Recency\",\n",
        "                             \"Frequency (times)\":\"Frequency\",\n",
        "                             \"Monetary (c.c. blood)\":\"Monetary\",\n",
        "                             \"Time (months)\":\"Time\",\n",
        "                            }, inplace=True)"
      ],
      "metadata": {
        "id": "P-uHtnh2-zbK"
      },
      "execution_count": null,
      "outputs": []
    },
    {
      "cell_type": "code",
      "source": [
        "# Ahora, hago el resumen estadístico del conjunto de datos, pero evitando mostrar la información de la variable objetivo \"Donara_2007\", ya que esta información es más categorico que numérica\n",
        "transfusion.drop('Donara_2007',axis=1).describe().round(4)"
      ],
      "metadata": {
        "colab": {
          "base_uri": "https://localhost:8080/",
          "height": 300
        },
        "id": "m6pJLscn_PUV",
        "outputId": "e71eae71-5564-4422-d61d-366b2397a798"
      },
      "execution_count": null,
      "outputs": [
        {
          "output_type": "execute_result",
          "data": {
            "text/plain": [
              "        Recency  Frequency    Monetary      Time\n",
              "count  748.0000   748.0000    748.0000  748.0000\n",
              "mean     9.5067     5.5147   1378.6765   34.2821\n",
              "std      8.0954     5.8393   1459.8268   24.3767\n",
              "min      0.0000     1.0000    250.0000    2.0000\n",
              "25%      2.7500     2.0000    500.0000   16.0000\n",
              "50%      7.0000     4.0000   1000.0000   28.0000\n",
              "75%     14.0000     7.0000   1750.0000   50.0000\n",
              "max     74.0000    50.0000  12500.0000   98.0000"
            ],
            "text/html": [
              "\n",
              "  <div id=\"df-8e48eb1e-3717-465d-848c-159fc4f221f9\" class=\"colab-df-container\">\n",
              "    <div>\n",
              "<style scoped>\n",
              "    .dataframe tbody tr th:only-of-type {\n",
              "        vertical-align: middle;\n",
              "    }\n",
              "\n",
              "    .dataframe tbody tr th {\n",
              "        vertical-align: top;\n",
              "    }\n",
              "\n",
              "    .dataframe thead th {\n",
              "        text-align: right;\n",
              "    }\n",
              "</style>\n",
              "<table border=\"1\" class=\"dataframe\">\n",
              "  <thead>\n",
              "    <tr style=\"text-align: right;\">\n",
              "      <th></th>\n",
              "      <th>Recency</th>\n",
              "      <th>Frequency</th>\n",
              "      <th>Monetary</th>\n",
              "      <th>Time</th>\n",
              "    </tr>\n",
              "  </thead>\n",
              "  <tbody>\n",
              "    <tr>\n",
              "      <th>count</th>\n",
              "      <td>748.0000</td>\n",
              "      <td>748.0000</td>\n",
              "      <td>748.0000</td>\n",
              "      <td>748.0000</td>\n",
              "    </tr>\n",
              "    <tr>\n",
              "      <th>mean</th>\n",
              "      <td>9.5067</td>\n",
              "      <td>5.5147</td>\n",
              "      <td>1378.6765</td>\n",
              "      <td>34.2821</td>\n",
              "    </tr>\n",
              "    <tr>\n",
              "      <th>std</th>\n",
              "      <td>8.0954</td>\n",
              "      <td>5.8393</td>\n",
              "      <td>1459.8268</td>\n",
              "      <td>24.3767</td>\n",
              "    </tr>\n",
              "    <tr>\n",
              "      <th>min</th>\n",
              "      <td>0.0000</td>\n",
              "      <td>1.0000</td>\n",
              "      <td>250.0000</td>\n",
              "      <td>2.0000</td>\n",
              "    </tr>\n",
              "    <tr>\n",
              "      <th>25%</th>\n",
              "      <td>2.7500</td>\n",
              "      <td>2.0000</td>\n",
              "      <td>500.0000</td>\n",
              "      <td>16.0000</td>\n",
              "    </tr>\n",
              "    <tr>\n",
              "      <th>50%</th>\n",
              "      <td>7.0000</td>\n",
              "      <td>4.0000</td>\n",
              "      <td>1000.0000</td>\n",
              "      <td>28.0000</td>\n",
              "    </tr>\n",
              "    <tr>\n",
              "      <th>75%</th>\n",
              "      <td>14.0000</td>\n",
              "      <td>7.0000</td>\n",
              "      <td>1750.0000</td>\n",
              "      <td>50.0000</td>\n",
              "    </tr>\n",
              "    <tr>\n",
              "      <th>max</th>\n",
              "      <td>74.0000</td>\n",
              "      <td>50.0000</td>\n",
              "      <td>12500.0000</td>\n",
              "      <td>98.0000</td>\n",
              "    </tr>\n",
              "  </tbody>\n",
              "</table>\n",
              "</div>\n",
              "    <div class=\"colab-df-buttons\">\n",
              "\n",
              "  <div class=\"colab-df-container\">\n",
              "    <button class=\"colab-df-convert\" onclick=\"convertToInteractive('df-8e48eb1e-3717-465d-848c-159fc4f221f9')\"\n",
              "            title=\"Convert this dataframe to an interactive table.\"\n",
              "            style=\"display:none;\">\n",
              "\n",
              "  <svg xmlns=\"http://www.w3.org/2000/svg\" height=\"24px\" viewBox=\"0 -960 960 960\">\n",
              "    <path d=\"M120-120v-720h720v720H120Zm60-500h600v-160H180v160Zm220 220h160v-160H400v160Zm0 220h160v-160H400v160ZM180-400h160v-160H180v160Zm440 0h160v-160H620v160ZM180-180h160v-160H180v160Zm440 0h160v-160H620v160Z\"/>\n",
              "  </svg>\n",
              "    </button>\n",
              "\n",
              "  <style>\n",
              "    .colab-df-container {\n",
              "      display:flex;\n",
              "      gap: 12px;\n",
              "    }\n",
              "\n",
              "    .colab-df-convert {\n",
              "      background-color: #E8F0FE;\n",
              "      border: none;\n",
              "      border-radius: 50%;\n",
              "      cursor: pointer;\n",
              "      display: none;\n",
              "      fill: #1967D2;\n",
              "      height: 32px;\n",
              "      padding: 0 0 0 0;\n",
              "      width: 32px;\n",
              "    }\n",
              "\n",
              "    .colab-df-convert:hover {\n",
              "      background-color: #E2EBFA;\n",
              "      box-shadow: 0px 1px 2px rgba(60, 64, 67, 0.3), 0px 1px 3px 1px rgba(60, 64, 67, 0.15);\n",
              "      fill: #174EA6;\n",
              "    }\n",
              "\n",
              "    .colab-df-buttons div {\n",
              "      margin-bottom: 4px;\n",
              "    }\n",
              "\n",
              "    [theme=dark] .colab-df-convert {\n",
              "      background-color: #3B4455;\n",
              "      fill: #D2E3FC;\n",
              "    }\n",
              "\n",
              "    [theme=dark] .colab-df-convert:hover {\n",
              "      background-color: #434B5C;\n",
              "      box-shadow: 0px 1px 3px 1px rgba(0, 0, 0, 0.15);\n",
              "      filter: drop-shadow(0px 1px 2px rgba(0, 0, 0, 0.3));\n",
              "      fill: #FFFFFF;\n",
              "    }\n",
              "  </style>\n",
              "\n",
              "    <script>\n",
              "      const buttonEl =\n",
              "        document.querySelector('#df-8e48eb1e-3717-465d-848c-159fc4f221f9 button.colab-df-convert');\n",
              "      buttonEl.style.display =\n",
              "        google.colab.kernel.accessAllowed ? 'block' : 'none';\n",
              "\n",
              "      async function convertToInteractive(key) {\n",
              "        const element = document.querySelector('#df-8e48eb1e-3717-465d-848c-159fc4f221f9');\n",
              "        const dataTable =\n",
              "          await google.colab.kernel.invokeFunction('convertToInteractive',\n",
              "                                                    [key], {});\n",
              "        if (!dataTable) return;\n",
              "\n",
              "        const docLinkHtml = 'Like what you see? Visit the ' +\n",
              "          '<a target=\"_blank\" href=https://colab.research.google.com/notebooks/data_table.ipynb>data table notebook</a>'\n",
              "          + ' to learn more about interactive tables.';\n",
              "        element.innerHTML = '';\n",
              "        dataTable['output_type'] = 'display_data';\n",
              "        await google.colab.output.renderOutput(dataTable, element);\n",
              "        const docLink = document.createElement('div');\n",
              "        docLink.innerHTML = docLinkHtml;\n",
              "        element.appendChild(docLink);\n",
              "      }\n",
              "    </script>\n",
              "  </div>\n",
              "\n",
              "\n",
              "<div id=\"df-55c040df-4583-4619-9dd9-b0a4e4b017fb\">\n",
              "  <button class=\"colab-df-quickchart\" onclick=\"quickchart('df-55c040df-4583-4619-9dd9-b0a4e4b017fb')\"\n",
              "            title=\"Suggest charts.\"\n",
              "            style=\"display:none;\">\n",
              "\n",
              "<svg xmlns=\"http://www.w3.org/2000/svg\" height=\"24px\"viewBox=\"0 0 24 24\"\n",
              "     width=\"24px\">\n",
              "    <g>\n",
              "        <path d=\"M19 3H5c-1.1 0-2 .9-2 2v14c0 1.1.9 2 2 2h14c1.1 0 2-.9 2-2V5c0-1.1-.9-2-2-2zM9 17H7v-7h2v7zm4 0h-2V7h2v10zm4 0h-2v-4h2v4z\"/>\n",
              "    </g>\n",
              "</svg>\n",
              "  </button>\n",
              "\n",
              "<style>\n",
              "  .colab-df-quickchart {\n",
              "      --bg-color: #E8F0FE;\n",
              "      --fill-color: #1967D2;\n",
              "      --hover-bg-color: #E2EBFA;\n",
              "      --hover-fill-color: #174EA6;\n",
              "      --disabled-fill-color: #AAA;\n",
              "      --disabled-bg-color: #DDD;\n",
              "  }\n",
              "\n",
              "  [theme=dark] .colab-df-quickchart {\n",
              "      --bg-color: #3B4455;\n",
              "      --fill-color: #D2E3FC;\n",
              "      --hover-bg-color: #434B5C;\n",
              "      --hover-fill-color: #FFFFFF;\n",
              "      --disabled-bg-color: #3B4455;\n",
              "      --disabled-fill-color: #666;\n",
              "  }\n",
              "\n",
              "  .colab-df-quickchart {\n",
              "    background-color: var(--bg-color);\n",
              "    border: none;\n",
              "    border-radius: 50%;\n",
              "    cursor: pointer;\n",
              "    display: none;\n",
              "    fill: var(--fill-color);\n",
              "    height: 32px;\n",
              "    padding: 0;\n",
              "    width: 32px;\n",
              "  }\n",
              "\n",
              "  .colab-df-quickchart:hover {\n",
              "    background-color: var(--hover-bg-color);\n",
              "    box-shadow: 0 1px 2px rgba(60, 64, 67, 0.3), 0 1px 3px 1px rgba(60, 64, 67, 0.15);\n",
              "    fill: var(--button-hover-fill-color);\n",
              "  }\n",
              "\n",
              "  .colab-df-quickchart-complete:disabled,\n",
              "  .colab-df-quickchart-complete:disabled:hover {\n",
              "    background-color: var(--disabled-bg-color);\n",
              "    fill: var(--disabled-fill-color);\n",
              "    box-shadow: none;\n",
              "  }\n",
              "\n",
              "  .colab-df-spinner {\n",
              "    border: 2px solid var(--fill-color);\n",
              "    border-color: transparent;\n",
              "    border-bottom-color: var(--fill-color);\n",
              "    animation:\n",
              "      spin 1s steps(1) infinite;\n",
              "  }\n",
              "\n",
              "  @keyframes spin {\n",
              "    0% {\n",
              "      border-color: transparent;\n",
              "      border-bottom-color: var(--fill-color);\n",
              "      border-left-color: var(--fill-color);\n",
              "    }\n",
              "    20% {\n",
              "      border-color: transparent;\n",
              "      border-left-color: var(--fill-color);\n",
              "      border-top-color: var(--fill-color);\n",
              "    }\n",
              "    30% {\n",
              "      border-color: transparent;\n",
              "      border-left-color: var(--fill-color);\n",
              "      border-top-color: var(--fill-color);\n",
              "      border-right-color: var(--fill-color);\n",
              "    }\n",
              "    40% {\n",
              "      border-color: transparent;\n",
              "      border-right-color: var(--fill-color);\n",
              "      border-top-color: var(--fill-color);\n",
              "    }\n",
              "    60% {\n",
              "      border-color: transparent;\n",
              "      border-right-color: var(--fill-color);\n",
              "    }\n",
              "    80% {\n",
              "      border-color: transparent;\n",
              "      border-right-color: var(--fill-color);\n",
              "      border-bottom-color: var(--fill-color);\n",
              "    }\n",
              "    90% {\n",
              "      border-color: transparent;\n",
              "      border-bottom-color: var(--fill-color);\n",
              "    }\n",
              "  }\n",
              "</style>\n",
              "\n",
              "  <script>\n",
              "    async function quickchart(key) {\n",
              "      const quickchartButtonEl =\n",
              "        document.querySelector('#' + key + ' button');\n",
              "      quickchartButtonEl.disabled = true;  // To prevent multiple clicks.\n",
              "      quickchartButtonEl.classList.add('colab-df-spinner');\n",
              "      try {\n",
              "        const charts = await google.colab.kernel.invokeFunction(\n",
              "            'suggestCharts', [key], {});\n",
              "      } catch (error) {\n",
              "        console.error('Error during call to suggestCharts:', error);\n",
              "      }\n",
              "      quickchartButtonEl.classList.remove('colab-df-spinner');\n",
              "      quickchartButtonEl.classList.add('colab-df-quickchart-complete');\n",
              "    }\n",
              "    (() => {\n",
              "      let quickchartButtonEl =\n",
              "        document.querySelector('#df-55c040df-4583-4619-9dd9-b0a4e4b017fb button');\n",
              "      quickchartButtonEl.style.display =\n",
              "        google.colab.kernel.accessAllowed ? 'block' : 'none';\n",
              "    })();\n",
              "  </script>\n",
              "</div>\n",
              "    </div>\n",
              "  </div>\n"
            ]
          },
          "metadata": {},
          "execution_count": 384
        }
      ]
    },
    {
      "cell_type": "code",
      "source": [
        "#Calculo la varianza\n",
        "transfusion.var().round(2)"
      ],
      "metadata": {
        "colab": {
          "base_uri": "https://localhost:8080/"
        },
        "id": "sZmgAG8K4cju",
        "outputId": "d1309c1a-e302-47be-b1e1-f74cf84bafce"
      },
      "execution_count": null,
      "outputs": [
        {
          "output_type": "execute_result",
          "data": {
            "text/plain": [
              "Recency             65.54\n",
              "Frequency           34.10\n",
              "Monetary       2131094.23\n",
              "Time               594.22\n",
              "Donara_2007          0.18\n",
              "dtype: float64"
            ]
          },
          "metadata": {},
          "execution_count": 385
        }
      ]
    },
    {
      "cell_type": "code",
      "source": [
        "# Realizo el diagrama de barras con la variable objetivo.\n",
        "sns.countplot(x = \"Donara_2007\", data = transfusion)"
      ],
      "metadata": {
        "colab": {
          "base_uri": "https://localhost:8080/",
          "height": 466
        },
        "id": "8Hkmf9NX_PRR",
        "outputId": "18e03ae0-7166-4e29-a9a7-f2f85d20b288"
      },
      "execution_count": null,
      "outputs": [
        {
          "output_type": "execute_result",
          "data": {
            "text/plain": [
              "<Axes: xlabel='Donara_2007', ylabel='count'>"
            ]
          },
          "metadata": {},
          "execution_count": 386
        },
        {
          "output_type": "display_data",
          "data": {
            "text/plain": [
              "<Figure size 640x480 with 1 Axes>"
            ],
            "image/png": "[encoded data removed]"
          },
          "metadata": {}
        }
      ]
    },
    {
      "cell_type": "code",
      "source": [
        "# Valido esto con las proporciones de incidencia de la variable objetivo \"Donara_2007\".\n",
        "transfusion.Donara_2007.value_counts(normalize=True).round(2) #Redondeo a 2 cifras decimales"
      ],
      "metadata": {
        "colab": {
          "base_uri": "https://localhost:8080/"
        },
        "id": "KDORkCyCNwOt",
        "outputId": "5bd0fb83-4b57-4970-eaa1-0fe5ef339979"
      },
      "execution_count": null,
      "outputs": [
        {
          "output_type": "execute_result",
          "data": {
            "text/plain": [
              "0    0.76\n",
              "1    0.24\n",
              "Name: Donara_2007, dtype: float64"
            ]
          },
          "metadata": {},
          "execution_count": 387
        }
      ]
    },
    {
      "cell_type": "code",
      "source": [
        "#Diagrama de cajas y bigotes, esto me permite encontrar las diferencias significativa entre Donacion_2007 y Recency\n",
        "sns.boxplot(data = transfusion, y = \"Recency\", x = \"Donara_2007\")\n",
        "\n",
        "plt.ylabel(\"Recencia en meses\")\n",
        "plt.xlabel(\"Donara: 0-Si, 1-No\")\n",
        "plt.title(\"Diagrama de cajas y bigotes de la recencia segun donacion\")\n",
        "\n",
        "#Ajustar el tamaño de la grafica\n",
        "plt.gcf().set_size_inches(8,4)\n",
        "plt.show()\n",
        "\n",
        "#Diagrama de cajas y bigotes, esto me permite encontrar las diferencias significativa entre Donacion_2007 y Frequency\n",
        "sns.boxplot(data = transfusion, y = \"Frequency\", x = \"Donara_2007\")\n",
        "\n",
        "plt.ylabel(\"Frecuencia en meses\")\n",
        "plt.xlabel(\"Donara: 0-Si, 1-No\")\n",
        "plt.title(\"Diagrama de cajas y bigotes de la frecuencia segun donacion\")\n",
        "\n",
        "#Ajustar el tamaño de la grafica\n",
        "plt.gcf().set_size_inches(8,4)\n",
        "plt.show()\n",
        "\n",
        "#Diagrama de cajas y bigotes, esto me permite encontrar las diferencias significativa entre Donacion_2007 y Monetary\n",
        "sns.boxplot(data = transfusion, y = \"Monetary\", x = \"Donara_2007\")\n",
        "\n",
        "plt.ylabel(\"Monetaria en c.c. de sangre\")\n",
        "plt.xlabel(\"Donara: 0-Si, 1-No\")\n",
        "plt.title(\"Diagrama de cajas y bigotes de la monetaria segun donacion\")\n",
        "\n",
        "#Ajustar el tamaño de la grafica\n",
        "plt.gcf().set_size_inches(8,4)\n",
        "plt.show()\n",
        "\n",
        "#Diagrama de cajas y bigotes, esto me permite encontrar las diferencias significativa entre Donacion_2007 y Time\n",
        "sns.boxplot(data = transfusion, y = \"Time\", x = \"Donara_2007\")\n",
        "\n",
        "plt.ylabel(\"Tiempo en meses\")\n",
        "plt.xlabel(\"Donara: 0-Si, 1-No\")\n",
        "plt.title(\"Diagrama de cajas y bigotes de la tiempo segun donacion\")\n",
        "\n",
        "#Ajustar el tamaño de la grafica\n",
        "plt.gcf().set_size_inches(8,4)\n",
        "plt.show()"
      ],
      "metadata": {
        "colab": {
          "base_uri": "https://localhost:8080/",
          "height": 1000
        },
        "id": "aiLZJhU4_POa",
        "outputId": "7a0e03d3-9efa-46e3-d67f-2635fb903529"
      },
      "execution_count": null,
      "outputs": [
        {
          "output_type": "display_data",
          "data": {
            "text/plain": [
              "<Figure size 800x400 with 1 Axes>"
            ],
            "image/png": "[encoded data removed]"
          },
          "metadata": {}
        },
        {
          "output_type": "display_data",
          "data": {
            "text/plain": [
              "<Figure size 800x400 with 1 Axes>"
            ],
            "image/png": "[encoded data removed]"
          },
          "metadata": {}
        },
        {
          "output_type": "display_data",
          "data": {
            "text/plain": [
              "<Figure size 800x400 with 1 Axes>"
            ],
            "image/png": "[encoded data removed]"
          },
          "metadata": {}
        },
        {
          "output_type": "display_data",
          "data": {
            "text/plain": [
              "<Figure size 800x400 with 1 Axes>"
            ],
            "image/png": "[encoded data removed]"
          },
          "metadata": {}
        }
      ]
    },
    {
      "cell_type": "markdown",
      "source": [
        "Se observa que hay mayor cantidad de valores atipicos y valores bastante altos en los datos de las personas que no donarán (1) con respecto a recencia, frecuencia , monetaria y tiempo.\n"
      ],
      "metadata": {
        "id": "_frl-viiGup1"
      }
    },
    {
      "cell_type": "markdown",
      "source": [
        "# Balanceo de los datos\n",
        "\n",
        "De el resumen estadistico observo que la varianza está muy elevada, especialmente en \"Monetary (c.c. blood)\" que es mucho mayor que el promedio.\n",
        "\n",
        "Además, en el diagrama de barras con los datos categoricos me permiten ver si los datos estan balanceados o no estan balanceados, en este caso hay diferencias en las proporciones de la variable objetivo.\n",
        "\n",
        "Según la incidencia de la variable objetivo \"Donara_2007\", el 76% de los datos se encuentran en 0. Se mantendrá la misma estructura en los conjuntos de datos de entrenamiento y prueba, es decir, ambos conjuntos de datos tendrán una incidencia del objetivo del 76% de 0, para esto se especificará el parámetro stratify en la columna Donara_2007."
      ],
      "metadata": {
        "id": "TiwJgHc6iERO"
      }
    },
    {
      "cell_type": "code",
      "source": [
        "# Se divide el dataframe transfusion en X_train, X_test, y_train and y_test datasets, estratificando sobre la variable Donara_2007,\n",
        "# tengo en cuenta que conjunto de entrenamiento (75%) y conjunto de prueba (25%)\n",
        "\n",
        "from sklearn.model_selection import train_test_split\n",
        "\n",
        "#Se crea la variable\n",
        "X = transfusion.drop([\"Donara_2007\"],axis = 1).values\n",
        "\n",
        "#Se crea la etiqueta\n",
        "y = transfusion[\"Donara_2007\"].values\n",
        "\n",
        "X_train, X_test, y_train, y_test = train_test_split(\n",
        "  transfusion.drop(columns=\"Donara_2007\"), #Se descarta la columna Donara_2007\n",
        "  transfusion.Donara_2007,\n",
        "  test_size=0.25,\n",
        "  random_state=42,\n",
        "  stratify=transfusion.Donara_2007\n",
        ")\n",
        "#Calculo la varianza y veo que\n",
        "X_train.var().round(2)\n"
      ],
      "metadata": {
        "colab": {
          "base_uri": "https://localhost:8080/"
        },
        "id": "QbovSoeZ_PLV",
        "outputId": "0f82a802-2901-4c3a-f032-24dd2fdc22f4"
      },
      "execution_count": null,
      "outputs": [
        {
          "output_type": "execute_result",
          "data": {
            "text/plain": [
              "Recency           66.93\n",
              "Frequency         33.83\n",
              "Monetary     2114363.70\n",
              "Time             611.15\n",
              "dtype: float64"
            ]
          },
          "metadata": {},
          "execution_count": 389
        }
      ]
    },
    {
      "cell_type": "markdown",
      "source": [
        "Ya que la varianza de Monetary es muy alta, podrían existir sesgos con esta variable sobre otras, por lo que se realizará la normalización logarítmica."
      ],
      "metadata": {
        "id": "dnKIEncE64Rv"
      }
    },
    {
      "cell_type": "code",
      "source": [
        "# Primero, se copiará X_train y X_test sobre X_train_normed y X_test_normed\n",
        "X_train_normed, X_test_normed = X_train.copy(), X_test.copy()\n",
        "\n",
        "# especificar la columna a normalizar\n",
        "col_to_normalize = \"Monetary\"\n",
        "\n",
        "# Log normalización\n",
        "for df_ in [X_train_normed,X_test_normed]:\n",
        "    # adiciona la columna log normalizada\n",
        "    df_[\"Monetary_log\"] = np.log(df_[col_to_normalize])\n",
        "    # elimina la columna original\n",
        "    df_.drop(columns=col_to_normalize,inplace =True)"
      ],
      "metadata": {
        "id": "a0nZeC_61w6R"
      },
      "execution_count": null,
      "outputs": []
    },
    {
      "cell_type": "code",
      "source": [
        "# Chequea la varianza para X_train_normed\n",
        "X_train_normed.var().round(3)"
      ],
      "metadata": {
        "colab": {
          "base_uri": "https://localhost:8080/"
        },
        "id": "_3ooohPRGUy_",
        "outputId": "f8b2bfee-4ca7-4da5-8986-1a4bfebfdd97"
      },
      "execution_count": null,
      "outputs": [
        {
          "output_type": "execute_result",
          "data": {
            "text/plain": [
              "Recency          66.929\n",
              "Frequency        33.830\n",
              "Time            611.147\n",
              "Monetary_log      0.837\n",
              "dtype: float64"
            ]
          },
          "metadata": {},
          "execution_count": 391
        }
      ]
    },
    {
      "cell_type": "code",
      "source": [
        "# Chequea la varianza para X_test_normed\n",
        "X_test_normed.var().round(3)"
      ],
      "metadata": {
        "colab": {
          "base_uri": "https://localhost:8080/"
        },
        "id": "8sZ3zdJGGWXd",
        "outputId": "31d50df2-1357-40c3-b787-e5280e9cf080"
      },
      "execution_count": null,
      "outputs": [
        {
          "output_type": "execute_result",
          "data": {
            "text/plain": [
              "Recency          61.692\n",
              "Frequency        34.887\n",
              "Time            533.939\n",
              "Monetary_log      0.828\n",
              "dtype: float64"
            ]
          },
          "metadata": {},
          "execution_count": 392
        }
      ]
    },
    {
      "cell_type": "code",
      "source": [
        "X_train_normed.head()"
      ],
      "metadata": {
        "colab": {
          "base_uri": "https://localhost:8080/",
          "height": 206
        },
        "id": "pJDB9csB8Yat",
        "outputId": "f4b53dab-c602-488b-ad9f-e74e0aa259c3"
      },
      "execution_count": null,
      "outputs": [
        {
          "output_type": "execute_result",
          "data": {
            "text/plain": [
              "     Recency  Frequency  Time  Monetary_log\n",
              "334       16          2    16      6.214608\n",
              "99         5          7    26      7.467371\n",
              "116        2          7    46      7.467371\n",
              "661       16          2    16      6.214608\n",
              "154        2          1     2      5.521461"
            ],
            "text/html": [
              "\n",
              "  <div id=\"df-99297d2d-a867-45a5-a57f-2e300c3aa98f\" class=\"colab-df-container\">\n",
              "    <div>\n",
              "<style scoped>\n",
              "    .dataframe tbody tr th:only-of-type {\n",
              "        vertical-align: middle;\n",
              "    }\n",
              "\n",
              "    .dataframe tbody tr th {\n",
              "        vertical-align: top;\n",
              "    }\n",
              "\n",
              "    .dataframe thead th {\n",
              "        text-align: right;\n",
              "    }\n",
              "</style>\n",
              "<table border=\"1\" class=\"dataframe\">\n",
              "  <thead>\n",
              "    <tr style=\"text-align: right;\">\n",
              "      <th></th>\n",
              "      <th>Recency</th>\n",
              "      <th>Frequency</th>\n",
              "      <th>Time</th>\n",
              "      <th>Monetary_log</th>\n",
              "    </tr>\n",
              "  </thead>\n",
              "  <tbody>\n",
              "    <tr>\n",
              "      <th>334</th>\n",
              "      <td>16</td>\n",
              "      <td>2</td>\n",
              "      <td>16</td>\n",
              "      <td>6.214608</td>\n",
              "    </tr>\n",
              "    <tr>\n",
              "      <th>99</th>\n",
              "      <td>5</td>\n",
              "      <td>7</td>\n",
              "      <td>26</td>\n",
              "      <td>7.467371</td>\n",
              "    </tr>\n",
              "    <tr>\n",
              "      <th>116</th>\n",
              "      <td>2</td>\n",
              "      <td>7</td>\n",
              "      <td>46</td>\n",
              "      <td>7.467371</td>\n",
              "    </tr>\n",
              "    <tr>\n",
              "      <th>661</th>\n",
              "      <td>16</td>\n",
              "      <td>2</td>\n",
              "      <td>16</td>\n",
              "      <td>6.214608</td>\n",
              "    </tr>\n",
              "    <tr>\n",
              "      <th>154</th>\n",
              "      <td>2</td>\n",
              "      <td>1</td>\n",
              "      <td>2</td>\n",
              "      <td>5.521461</td>\n",
              "    </tr>\n",
              "  </tbody>\n",
              "</table>\n",
              "</div>\n",
              "    <div class=\"colab-df-buttons\">\n",
              "\n",
              "  <div class=\"colab-df-container\">\n",
              "    <button class=\"colab-df-convert\" onclick=\"convertToInteractive('df-99297d2d-a867-45a5-a57f-2e300c3aa98f')\"\n",
              "            title=\"Convert this dataframe to an interactive table.\"\n",
              "            style=\"display:none;\">\n",
              "\n",
              "  <svg xmlns=\"http://www.w3.org/2000/svg\" height=\"24px\" viewBox=\"0 -960 960 960\">\n",
              "    <path d=\"M120-120v-720h720v720H120Zm60-500h600v-160H180v160Zm220 220h160v-160H400v160Zm0 220h160v-160H400v160ZM180-400h160v-160H180v160Zm440 0h160v-160H620v160ZM180-180h160v-160H180v160Zm440 0h160v-160H620v160Z\"/>\n",
              "  </svg>\n",
              "    </button>\n",
              "\n",
              "  <style>\n",
              "    .colab-df-container {\n",
              "      display:flex;\n",
              "      gap: 12px;\n",
              "    }\n",
              "\n",
              "    .colab-df-convert {\n",
              "      background-color: #E8F0FE;\n",
              "      border: none;\n",
              "      border-radius: 50%;\n",
              "      cursor: pointer;\n",
              "      display: none;\n",
              "      fill: #1967D2;\n",
              "      height: 32px;\n",
              "      padding: 0 0 0 0;\n",
              "      width: 32px;\n",
              "    }\n",
              "\n",
              "    .colab-df-convert:hover {\n",
              "      background-color: #E2EBFA;\n",
              "      box-shadow: 0px 1px 2px rgba(60, 64, 67, 0.3), 0px 1px 3px 1px rgba(60, 64, 67, 0.15);\n",
              "      fill: #174EA6;\n",
              "    }\n",
              "\n",
              "    .colab-df-buttons div {\n",
              "      margin-bottom: 4px;\n",
              "    }\n",
              "\n",
              "    [theme=dark] .colab-df-convert {\n",
              "      background-color: #3B4455;\n",
              "      fill: #D2E3FC;\n",
              "    }\n",
              "\n",
              "    [theme=dark] .colab-df-convert:hover {\n",
              "      background-color: #434B5C;\n",
              "      box-shadow: 0px 1px 3px 1px rgba(0, 0, 0, 0.15);\n",
              "      filter: drop-shadow(0px 1px 2px rgba(0, 0, 0, 0.3));\n",
              "      fill: #FFFFFF;\n",
              "    }\n",
              "  </style>\n",
              "\n",
              "    <script>\n",
              "      const buttonEl =\n",
              "        document.querySelector('#df-99297d2d-a867-45a5-a57f-2e300c3aa98f button.colab-df-convert');\n",
              "      buttonEl.style.display =\n",
              "        google.colab.kernel.accessAllowed ? 'block' : 'none';\n",
              "\n",
              "      async function convertToInteractive(key) {\n",
              "        const element = document.querySelector('#df-99297d2d-a867-45a5-a57f-2e300c3aa98f');\n",
              "        const dataTable =\n",
              "          await google.colab.kernel.invokeFunction('convertToInteractive',\n",
              "                                                    [key], {});\n",
              "        if (!dataTable) return;\n",
              "\n",
              "        const docLinkHtml = 'Like what you see? Visit the ' +\n",
              "          '<a target=\"_blank\" href=https://colab.research.google.com/notebooks/data_table.ipynb>data table notebook</a>'\n",
              "          + ' to learn more about interactive tables.';\n",
              "        element.innerHTML = '';\n",
              "        dataTable['output_type'] = 'display_data';\n",
              "        await google.colab.output.renderOutput(dataTable, element);\n",
              "        const docLink = document.createElement('div');\n",
              "        docLink.innerHTML = docLinkHtml;\n",
              "        element.appendChild(docLink);\n",
              "      }\n",
              "    </script>\n",
              "  </div>\n",
              "\n",
              "\n",
              "<div id=\"df-4814c693-2ce7-4f4f-8162-671f78dae883\">\n",
              "  <button class=\"colab-df-quickchart\" onclick=\"quickchart('df-4814c693-2ce7-4f4f-8162-671f78dae883')\"\n",
              "            title=\"Suggest charts.\"\n",
              "            style=\"display:none;\">\n",
              "\n",
              "<svg xmlns=\"http://www.w3.org/2000/svg\" height=\"24px\"viewBox=\"0 0 24 24\"\n",
              "     width=\"24px\">\n",
              "    <g>\n",
              "        <path d=\"M19 3H5c-1.1 0-2 .9-2 2v14c0 1.1.9 2 2 2h14c1.1 0 2-.9 2-2V5c0-1.1-.9-2-2-2zM9 17H7v-7h2v7zm4 0h-2V7h2v10zm4 0h-2v-4h2v4z\"/>\n",
              "    </g>\n",
              "</svg>\n",
              "  </button>\n",
              "\n",
              "<style>\n",
              "  .colab-df-quickchart {\n",
              "      --bg-color: #E8F0FE;\n",
              "      --fill-color: #1967D2;\n",
              "      --hover-bg-color: #E2EBFA;\n",
              "      --hover-fill-color: #174EA6;\n",
              "      --disabled-fill-color: #AAA;\n",
              "      --disabled-bg-color: #DDD;\n",
              "  }\n",
              "\n",
              "  [theme=dark] .colab-df-quickchart {\n",
              "      --bg-color: #3B4455;\n",
              "      --fill-color: #D2E3FC;\n",
              "      --hover-bg-color: #434B5C;\n",
              "      --hover-fill-color: #FFFFFF;\n",
              "      --disabled-bg-color: #3B4455;\n",
              "      --disabled-fill-color: #666;\n",
              "  }\n",
              "\n",
              "  .colab-df-quickchart {\n",
              "    background-color: var(--bg-color);\n",
              "    border: none;\n",
              "    border-radius: 50%;\n",
              "    cursor: pointer;\n",
              "    display: none;\n",
              "    fill: var(--fill-color);\n",
              "    height: 32px;\n",
              "    padding: 0;\n",
              "    width: 32px;\n",
              "  }\n",
              "\n",
              "  .colab-df-quickchart:hover {\n",
              "    background-color: var(--hover-bg-color);\n",
              "    box-shadow: 0 1px 2px rgba(60, 64, 67, 0.3), 0 1px 3px 1px rgba(60, 64, 67, 0.15);\n",
              "    fill: var(--button-hover-fill-color);\n",
              "  }\n",
              "\n",
              "  .colab-df-quickchart-complete:disabled,\n",
              "  .colab-df-quickchart-complete:disabled:hover {\n",
              "    background-color: var(--disabled-bg-color);\n",
              "    fill: var(--disabled-fill-color);\n",
              "    box-shadow: none;\n",
              "  }\n",
              "\n",
              "  .colab-df-spinner {\n",
              "    border: 2px solid var(--fill-color);\n",
              "    border-color: transparent;\n",
              "    border-bottom-color: var(--fill-color);\n",
              "    animation:\n",
              "      spin 1s steps(1) infinite;\n",
              "  }\n",
              "\n",
              "  @keyframes spin {\n",
              "    0% {\n",
              "      border-color: transparent;\n",
              "      border-bottom-color: var(--fill-color);\n",
              "      border-left-color: var(--fill-color);\n",
              "    }\n",
              "    20% {\n",
              "      border-color: transparent;\n",
              "      border-left-color: var(--fill-color);\n",
              "      border-top-color: var(--fill-color);\n",
              "    }\n",
              "    30% {\n",
              "      border-color: transparent;\n",
              "      border-left-color: var(--fill-color);\n",
              "      border-top-color: var(--fill-color);\n",
              "      border-right-color: var(--fill-color);\n",
              "    }\n",
              "    40% {\n",
              "      border-color: transparent;\n",
              "      border-right-color: var(--fill-color);\n",
              "      border-top-color: var(--fill-color);\n",
              "    }\n",
              "    60% {\n",
              "      border-color: transparent;\n",
              "      border-right-color: var(--fill-color);\n",
              "    }\n",
              "    80% {\n",
              "      border-color: transparent;\n",
              "      border-right-color: var(--fill-color);\n",
              "      border-bottom-color: var(--fill-color);\n",
              "    }\n",
              "    90% {\n",
              "      border-color: transparent;\n",
              "      border-bottom-color: var(--fill-color);\n",
              "    }\n",
              "  }\n",
              "</style>\n",
              "\n",
              "  <script>\n",
              "    async function quickchart(key) {\n",
              "      const quickchartButtonEl =\n",
              "        document.querySelector('#' + key + ' button');\n",
              "      quickchartButtonEl.disabled = true;  // To prevent multiple clicks.\n",
              "      quickchartButtonEl.classList.add('colab-df-spinner');\n",
              "      try {\n",
              "        const charts = await google.colab.kernel.invokeFunction(\n",
              "            'suggestCharts', [key], {});\n",
              "      } catch (error) {\n",
              "        console.error('Error during call to suggestCharts:', error);\n",
              "      }\n",
              "      quickchartButtonEl.classList.remove('colab-df-spinner');\n",
              "      quickchartButtonEl.classList.add('colab-df-quickchart-complete');\n",
              "    }\n",
              "    (() => {\n",
              "      let quickchartButtonEl =\n",
              "        document.querySelector('#df-4814c693-2ce7-4f4f-8162-671f78dae883 button');\n",
              "      quickchartButtonEl.style.display =\n",
              "        google.colab.kernel.accessAllowed ? 'block' : 'none';\n",
              "    })();\n",
              "  </script>\n",
              "</div>\n",
              "    </div>\n",
              "  </div>\n"
            ]
          },
          "metadata": {},
          "execution_count": 393
        }
      ]
    },
    {
      "cell_type": "markdown",
      "source": [
        "Al evaluar la varianza despues de normalizar logaritmicamente, se observa que esta cambiado siento Time el que mayor varianza tiene, sin ser un valor muy elevado en comparación con el resto de las variables. Ahora, se continuará con el entrenamiento de modelos."
      ],
      "metadata": {
        "id": "E4Pd31gt7rKQ"
      }
    },
    {
      "cell_type": "markdown",
      "source": [
        "# Regresion logistica"
      ],
      "metadata": {
        "id": "1Am_p5jQYt3E"
      }
    },
    {
      "cell_type": "code",
      "source": [
        "from sklearn.metrics import classification_report\n",
        "import sklearn.metrics as metrics\n",
        "import sklearn\n",
        "\n",
        "\n",
        "logreg = linear_model.LogisticRegression(solver = 'liblinear', random_state=42)\n",
        "\n",
        "logreg.fit(X_train_normed,y_train)\n",
        "\n",
        "y_pred_lr = logreg.predict(X_test_normed)\n",
        "prediction_train = logreg.predict(X_train_normed)\n",
        "prediction_proba_lr = logreg.predict_proba(X_test_normed)[:,1]\n",
        "\n",
        "\n",
        "logreg_auc_score = roc_auc_score(y_test, logreg.predict_proba(X_test_normed)[:,1])\n",
        "\n",
        "cm = metrics.confusion_matrix(y_test,y_pred_lr)\n",
        "\n",
        "print(\"Rendimiento del conjunto de entrenamiento: \", logreg.score(X_train_normed,y_train)*100)\n",
        "print(\"Rendimiento del conjunto de prueba: \", logreg.score(X_test_normed,y_test)*100)\n",
        "print(f\"\\nAUC score: {roc_auc_score(y_test,prediction_proba_lr)*100}\")\n",
        "\n",
        "#Matriz de confusión\n",
        "plt.figure(figsize = (5,5))\n",
        "sns.heatmap(cm, annot = True, fmt = \".3f\", linewidths=.5, square= True, cmap = \"Blues_r\");\n",
        "plt.ylabel(\"Etiquetas actuales\"); # eje y, las reales\n",
        "plt.xlabel(\"etiquetas predichas\"); #eje x, las de prediccion\n"
      ],
      "metadata": {
        "colab": {
          "base_uri": "https://localhost:8080/",
          "height": 502
        },
        "id": "eT4wQzQsGuJL",
        "outputId": "3b99d5a4-7581-4872-816f-e46c02e46c18"
      },
      "execution_count": null,
      "outputs": [
        {
          "output_type": "stream",
          "name": "stdout",
          "text": [
            "Rendimiento del conjunto de entrenamiento:  77.54010695187165\n",
            "Rendimiento del conjunto de prueba:  77.54010695187165\n",
            "\n",
            "AUC score: 78.90178003814367\n"
          ]
        },
        {
          "output_type": "display_data",
          "data": {
            "text/plain": [
              "<Figure size 500x500 with 2 Axes>"
            ],
            "image/png": "[encoded data removed]"
          },
          "metadata": {}
        }
      ]
    },
    {
      "cell_type": "markdown",
      "source": [
        "De la matriz de confusión se puede evaluar que:\n",
        "*   El clasificador hizo un total de 187 predicciones\n",
        "*   De esos 187 casos, el clasificador predijo \"sí\" 44 veces y \"no\" 143 veces.\n",
        "*   En realidad, 44 donantes de la muestra volverían a donar en el 2007 y 143 donantes no.\n"
      ],
      "metadata": {
        "id": "9J1Noe2tYc_r"
      }
    },
    {
      "cell_type": "markdown",
      "source": [
        "# K-Vecinos"
      ],
      "metadata": {
        "id": "FXmgXTmgacgi"
      }
    },
    {
      "cell_type": "code",
      "source": [
        "from sklearn.neighbors import KNeighborsClassifier\n",
        "from sklearn.model_selection import train_test_split\n",
        "\n",
        "knn = KNeighborsClassifier(n_neighbors = 2)\n",
        "\n",
        "knn.fit(X_train_normed, y_train) #Se hace el ajuste knn\n",
        "y_pred_knn = knn.predict(X_test_normed) #Se calcula la matriz de predicción\n",
        "\n",
        "\n",
        "print(\"Rendimiento del conjunto de entrenamiento: \", knn.score(X_train_normed,y_train)*100)\n",
        "print(\"Rendimiento del conjunto de prueba: \", knn.score(X_test_normed,y_test)*100)\n"
      ],
      "metadata": {
        "colab": {
          "base_uri": "https://localhost:8080/"
        },
        "id": "VEV-hO0cGuGj",
        "outputId": "e8622f75-8090-484d-b5e8-7b08200f368e"
      },
      "execution_count": null,
      "outputs": [
        {
          "output_type": "stream",
          "name": "stdout",
          "text": [
            "Rendimiento del conjunto de entrenamiento:  82.88770053475936\n",
            "Rendimiento del conjunto de prueba:  75.40106951871658\n"
          ]
        }
      ]
    },
    {
      "cell_type": "code",
      "source": [
        "# Se almacenan las precisiones de entrenamiento y prueba\n",
        "\n",
        "vecinos = np.arange(1, 25) #Se toma desde el vecino 1 hasta el vecino 25\n",
        "prec_entrenamiento = np.empty(len(vecinos)) #el conjunto de entrenamiento vacío\n",
        "prec_prueba = np.empty(len(vecinos)) #el conjunto de prueba vacío\n",
        "\n",
        "#ciclo sobre diferentes vecinos cercanos\n",
        "for i, k in enumerate(vecinos):\n",
        "  #Clasificador kNN con k vecinos cercanos: knn\n",
        "  knn = KNeighborsClassifier(n_neighbors = k) #primero se llama a la instancia segun el conteo que llevamos, en este caso del vecino K\n",
        "\n",
        "  #Ajuste del clasificador al conjunto de datos de entrenamiento\n",
        "  knn.fit(X_train_normed, y_train) # se hace el ajunte\n",
        "\n",
        "  #Calculo de la precision en el conj de entrenamiento\n",
        "  prec_entrenamiento[i] = knn.score(X_train_normed, y_train) #almacenamos el ajuste del conjunto de entrenamiento\n",
        "\n",
        "  #Calculo de la precision en el conj de prueba\n",
        "  prec_prueba[i] = knn.score(X_test_normed, y_test) #almacenamos el ajuste del conjunto de prueba\n",
        "\n",
        "#Generate plot\n",
        "plt.title(\"k-NN: Numero de vecinos cercanos\")\n",
        "plt.plot(vecinos, prec_prueba, label = \"Precision del conjunto prueba\")\n",
        "plt.plot(vecinos, prec_entrenamiento, label = \"Precision del conjunto entrenamiento\")\n",
        "plt.legend()\n",
        "plt.xlabel(\"numero de vecinos\")\n",
        "plt.ylabel(\"Precision\")\n",
        "plt.show()\n",
        "\n",
        "#Con el grafico puedo ver que al inicion hay un sobreajuste y luego un subajuste, por lo que los vecinos mas adecuados o mas optimoses el vecino 9, que es el que se usa para entrenar."
      ],
      "metadata": {
        "colab": {
          "base_uri": "https://localhost:8080/",
          "height": 472
        },
        "id": "FdZAPijJiD4Q",
        "outputId": "28b2afe8-3cd0-4546-d3c8-ddfc0236dd7f"
      },
      "execution_count": null,
      "outputs": [
        {
          "output_type": "display_data",
          "data": {
            "text/plain": [
              "<Figure size 640x480 with 1 Axes>"
            ],
            "image/png": "[encoded data removed]"
          },
          "metadata": {}
        }
      ]
    },
    {
      "cell_type": "code",
      "source": [
        "knn = KNeighborsClassifier(n_neighbors = 22)\n",
        "\n",
        "knn.fit(X_train_normed, y_train) #Se hace el ajuste knn\n",
        "y_pred_knn = knn.predict(X_test_normed) #Se calcula la matriz de predicción\n",
        "\n",
        "cm = metrics.confusion_matrix(y_test,y_pred_knn)\n",
        "\n",
        "print(\"Rendimiento del conjunto de entrenamiento: \", knn.score(X_train_normed,y_train)*100)\n",
        "print(\"Rendimiento del conjunto de prueba: \", knn.score(X_test_normed,y_test)*100)\n",
        "\n",
        "#Matriz de confusion\n",
        "plt.figure(figsize = (5,5))\n",
        "sns.heatmap(cm, annot = True, fmt = \".3f\", linewidths=.5, square= True, cmap = \"Blues_r\");\n",
        "plt.ylabel(\"Etiquetas actuales\"); # eje y, las reales\n",
        "plt.xlabel(\"etiquetas predichas\"); #eje x, las de prediccion"
      ],
      "metadata": {
        "colab": {
          "base_uri": "https://localhost:8080/",
          "height": 462
        },
        "id": "ksQmmhqaGuD6",
        "outputId": "71fcf05e-51ef-40b2-f421-1180808c1bd3"
      },
      "execution_count": null,
      "outputs": [
        {
          "output_type": "stream",
          "name": "stdout",
          "text": [
            "Rendimiento del conjunto de entrenamiento:  77.89661319073083\n",
            "Rendimiento del conjunto de prueba:  77.54010695187165\n"
          ]
        },
        {
          "output_type": "display_data",
          "data": {
            "text/plain": [
              "<Figure size 500x500 with 2 Axes>"
            ],
            "image/png": "[encoded data removed]"
          },
          "metadata": {}
        }
      ]
    },
    {
      "cell_type": "markdown",
      "source": [
        "De la matriz de confusión se puede evaluar que:\n",
        "*   El clasificador hizo un total de 187 predicciones\n",
        "*   De esos 187 casos, el clasificador predijo \"sí\" 44 veces y \"no\" 143 veces.\n",
        "*   En realidad, 44 donantes de la muestra volverían a donar en el 2007 y 143 donantes no."
      ],
      "metadata": {
        "id": "nS9pyAlxgCYI"
      }
    },
    {
      "cell_type": "markdown",
      "source": [
        "Usando el vecino 9 y vemos como el rendimiento del conjunto prueba mejora pasando de 75.40 a 80.21. Aunque el conjunto entrenamiento cambia, de"
      ],
      "metadata": {
        "id": "CfYcpekXlWUS"
      }
    },
    {
      "cell_type": "markdown",
      "source": [
        "# Árbol de decisión"
      ],
      "metadata": {
        "id": "FLieaVPVwPpz"
      }
    },
    {
      "cell_type": "markdown",
      "source": [
        " Primero encontraremos el PCA, para determinar en qué medida podemos reducir la dimensionalidad de nuestros datos. Podemos usar gráficos de pantalla para encontrar el número de componentes a utilizar en análisis posteriores, para esto se utiliza una \"curva\" (una caída abrupta de un punto de datos al siguiente) en el gráfico para decidir sobre un corte adecuado."
      ],
      "metadata": {
        "id": "0nvlEC_RM5X6"
      }
    },
    {
      "cell_type": "code",
      "source": [
        "#Primero debo calcular el PCA para esto se importa StandardScaler\n",
        "from sklearn.preprocessing import StandardScaler\n",
        "import matplotlib.pyplot as plt\n",
        "from sklearn.decomposition import PCA\n",
        "\n",
        "# Escalar las variables y establecer los valores en una nueva variabl\n",
        "scaler = StandardScaler()\n",
        "\n",
        "# Escalar X_train y X_test\n",
        "scaled_X_train = scaler.fit_transform(X_train)\n",
        "scaled_X_test = scaler.fit_transform(X_test)\n",
        "\n",
        "# Esto es solo para que los gráficos aparezcan en el notebook.\n",
        "%matplotlib inline\n",
        "\n",
        "# Obtener nuestros ratios de varianza explicada de PCA utilizando todas las características.\n",
        "pca = PCA()\n",
        "pca.fit(scaled_X_train)\n",
        "exp_variance = pca.explained_variance_ratio_\n",
        "\n",
        "# Graficar la varianza explicada utilizando un gráfico de barras.\n",
        "fig, ax = plt.subplots()\n",
        "ax.bar(range(pca.n_components_),exp_variance)\n",
        "ax.set_xlabel(\"Componente principal\")"
      ],
      "metadata": {
        "colab": {
          "base_uri": "https://localhost:8080/",
          "height": 466
        },
        "id": "bpYZQ3EyLIYp",
        "outputId": "7abf568a-b376-4039-f57b-22a9ea2913a6"
      },
      "execution_count": null,
      "outputs": [
        {
          "output_type": "execute_result",
          "data": {
            "text/plain": [
              "Text(0.5, 0, 'Componente principal')"
            ]
          },
          "metadata": {},
          "execution_count": 398
        },
        {
          "output_type": "display_data",
          "data": {
            "text/plain": [
              "<Figure size 640x480 with 1 Axes>"
            ],
            "image/png": "[encoded data removed]"
          },
          "metadata": {}
        }
      ]
    },
    {
      "cell_type": "markdown",
      "source": [
        "Ya que no se ve esta curva, buscaremos el PCA por gráficos de ratio explicado acumulativo."
      ],
      "metadata": {
        "id": "Drx3eQDhMx6V"
      }
    },
    {
      "cell_type": "code",
      "source": [
        "# Calcular la varianza explicada acumulada\n",
        "cum_exp_variance = np.cumsum(exp_variance)\n",
        "\n",
        "# Graficar la varianza explicada acumulada y dibujar una línea punteada en 0.85.\n",
        "fig, ax = plt.subplots()\n",
        "ax.plot(cum_exp_variance)\n",
        "ax.axhline(y=0.85,linestyle = \"--\")"
      ],
      "metadata": {
        "colab": {
          "base_uri": "https://localhost:8080/",
          "height": 447
        },
        "id": "d0C7af6CNew_",
        "outputId": "b99d8640-49d0-4971-a5e4-1bc943337aae"
      },
      "execution_count": null,
      "outputs": [
        {
          "output_type": "execute_result",
          "data": {
            "text/plain": [
              "<matplotlib.lines.Line2D at 0x7b0568680e20>"
            ]
          },
          "metadata": {},
          "execution_count": 399
        },
        {
          "output_type": "display_data",
          "data": {
            "text/plain": [
              "<Figure size 640x480 with 1 Axes>"
            ],
            "image/png": "[encoded data removed]"
          },
          "metadata": {}
        }
      ]
    },
    {
      "cell_type": "markdown",
      "source": [
        "Se ve en el grafico que 2 caracteristicas pueden explicar el 85% de la varianza, por lo que podemos usar 2 componentes para realizar PCA y reducir la dimensionalidad de las caracteristicas de entrenamiento y prueba"
      ],
      "metadata": {
        "id": "Sjv-2TFfNr0z"
      }
    },
    {
      "cell_type": "code",
      "source": [
        "# Realizar PCA con el número de componentes elegido y proyectar los datos en los componentes.\n",
        "pca = PCA(n_components = 2, random_state = 10)\n",
        "\n",
        "# Ajustar y transformar las características de entrenamiento escaladas utilizando pca.\n",
        "train_pca = pca.fit_transform(scaled_X_train)\n",
        "\n",
        "# Ajuste y transforme las características de prueba escaladas utilizando PCA.\n",
        "test_pca = pca.transform(scaled_X_test)"
      ],
      "metadata": {
        "id": "ukzBx-L3OB5h"
      },
      "execution_count": null,
      "outputs": []
    },
    {
      "cell_type": "markdown",
      "source": [
        "Ahora podemos utilizar la proyección de PCA de menor dimensionalidad de los datos para clasificar la desición de los donantes en 2007"
      ],
      "metadata": {
        "id": "7TUIpAM5OvHY"
      }
    },
    {
      "cell_type": "code",
      "source": [
        "import sklearn\n",
        "from sklearn.tree import DecisionTreeClassifier\n",
        "from sklearn.model_selection import train_test_split\n",
        "\n",
        "tree = DecisionTreeClassifier()\n",
        "tree.fit(train_pca, y_train) #Ajuste para el conjunto de entrenamiento\n",
        "tree_pred = tree.predict(test_pca) #Prediccion para el conjunto de prueba\n",
        "\n",
        "cm_tree = metrics.confusion_matrix(y_test, tree_pred)\n",
        "\n",
        "\n",
        "print(\"Rendimiento del conjunto de entrenamiento: \", tree.score(train_pca,y_train)*100)\n",
        "print(\"Rendimiento del conjunto de prueba: \", tree.score(test_pca,y_test)*100)\n",
        "print(f\"\\nAUC score: {roc_auc_score(y_test,tree_pred)*100}\")\n",
        "\n",
        "#Matriz de confusion\n",
        "plt.figure(figsize = (5,5))\n",
        "sns.heatmap(cm, annot = True, fmt = \".3f\", linewidths=.5, square= True, cmap = \"Blues_r\");\n",
        "plt.ylabel(\"Etiquetas actuales\"); # eje y, las reales\n",
        "plt.xlabel(\"etiquetas predichas\"); #eje x, las de prediccion\n"
      ],
      "metadata": {
        "colab": {
          "base_uri": "https://localhost:8080/",
          "height": 496
        },
        "id": "x7cQvwO5Gt-G",
        "outputId": "3643a1d3-9d4d-4d2e-a606-3d5a7165b8e3"
      },
      "execution_count": null,
      "outputs": [
        {
          "output_type": "stream",
          "name": "stdout",
          "text": [
            "Rendimiento del conjunto de entrenamiento:  94.11764705882352\n",
            "Rendimiento del conjunto de prueba:  72.19251336898395\n",
            "\n",
            "AUC score: 61.36363636363637\n"
          ]
        },
        {
          "output_type": "display_data",
          "data": {
            "text/plain": [
              "<Figure size 500x500 with 2 Axes>"
            ],
            "image/png": "[encoded data removed]"
          },
          "metadata": {}
        }
      ]
    },
    {
      "cell_type": "markdown",
      "source": [
        "De la matriz de confusión se puede evaluar que:\n",
        "*   El clasificador hizo un total de 187 predicciones\n",
        "*   De esos 187 casos, el clasificador predijo \"sí\" 44 veces y \"no\" 143 veces.\n",
        "*   En realidad, 44 donantes de la muestra volverían a donar en el 2007 y 143 donantes no."
      ],
      "metadata": {
        "id": "12KsF5DbgQLP"
      }
    },
    {
      "cell_type": "markdown",
      "source": [
        "# Se realiza el reporte de clasificación"
      ],
      "metadata": {
        "id": "0Zc24A8UeP9T"
      }
    },
    {
      "cell_type": "code",
      "source": [
        "# Entrenar nuestra regresión logística en los datos balanceados.\n",
        "logreg = LogisticRegression(random_state=10)\n",
        "logreg.fit(train_pca,y_train)\n",
        "pred_logit = logreg.predict(test_pca)\n",
        "\n",
        "# Entrenar nuestra k-vecinos en los datos balanceados.\n",
        "knn = KNeighborsClassifier(n_neighbors=20)\n",
        "knn.fit(train_pca,y_train)\n",
        "pred_knn = knn.predict(test_pca)\n",
        "\n",
        "# Entrenar nuestro árbol de decisión en los datos balanceados.\n",
        "tree = DecisionTreeClassifier(random_state = 10)\n",
        "tree.fit(train_pca,y_train)\n",
        "pred_tree = tree.predict(test_pca)\n",
        "\n",
        "# Comparar los modelos\n",
        "print(\"Regresión logística: \\n\", classification_report(y_test,pred_logit))\n",
        "print(\"K-vecinos: \\n\", classification_report(y_test,pred_knn))\n",
        "print(\"Árbol de decisión: \\n\", classification_report(y_test,pred_tree))"
      ],
      "metadata": {
        "colab": {
          "base_uri": "https://localhost:8080/"
        },
        "id": "rbshhFtccReL",
        "outputId": "8f7611d7-35ac-4ecf-cdfd-75b2c6bcced6"
      },
      "execution_count": null,
      "outputs": [
        {
          "output_type": "stream",
          "name": "stdout",
          "text": [
            "Regresión logística: \n",
            "               precision    recall  f1-score   support\n",
            "\n",
            "           0       0.78      0.99      0.87       143\n",
            "           1       0.80      0.09      0.16        44\n",
            "\n",
            "    accuracy                           0.78       187\n",
            "   macro avg       0.79      0.54      0.52       187\n",
            "weighted avg       0.78      0.78      0.71       187\n",
            "\n",
            "K-vecinos: \n",
            "               precision    recall  f1-score   support\n",
            "\n",
            "           0       0.81      0.94      0.87       143\n",
            "           1       0.60      0.27      0.37        44\n",
            "\n",
            "    accuracy                           0.79       187\n",
            "   macro avg       0.70      0.61      0.62       187\n",
            "weighted avg       0.76      0.79      0.75       187\n",
            "\n",
            "Árbol de decisión: \n",
            "               precision    recall  f1-score   support\n",
            "\n",
            "           0       0.81      0.82      0.82       143\n",
            "           1       0.40      0.39      0.39        44\n",
            "\n",
            "    accuracy                           0.72       187\n",
            "   macro avg       0.60      0.60      0.60       187\n",
            "weighted avg       0.71      0.72      0.72       187\n",
            "\n"
          ]
        }
      ]
    },
    {
      "cell_type": "markdown",
      "source": [
        "Se puede observar que el modelo que tiene mejor precisión es la Regresión logística ya que la precisión está más balanceada en comparación a los otros modelos."
      ],
      "metadata": {
        "id": "FfuqbsbtgXwy"
      }
    },
    {
      "cell_type": "markdown",
      "source": [
        "# Usando la validación cruzada para evaluar nuestros modelos"
      ],
      "metadata": {
        "id": "q3f01JEwRi1t"
      }
    },
    {
      "cell_type": "code",
      "source": [
        "from sklearn.model_selection import KFold, cross_val_score\n",
        "from sklearn.pipeline import Pipeline\n",
        "from sklearn.model_selection import KFold\n",
        "import sklearn\n",
        "\n",
        "logreg_pipe = Pipeline([(\"scaler\", StandardScaler()),(\"pca\", PCA(n_components=2)),(\"logreg\",LogisticRegression(random_state=10))])\n",
        "knn_pipe = Pipeline([(\"scaler\", StandardScaler()),(\"pca\", PCA(n_components=2)),(\"knn\",KNeighborsClassifier(n_neighbors=20))])\n",
        "tree_pipe = Pipeline([(\"scaler\", StandardScaler()),(\"pca\", PCA(n_components=2)),(\"tree\",DecisionTreeClassifier(random_state=10))])\n",
        "\n",
        "# Configurar nuestra validación cruzada K-fold.\n",
        "kf = KFold(10)\n",
        "\n",
        "# Entrenar nuestros modelos utilizando KFold CV.\n",
        "logit_score = cross_val_score(logreg_pipe, X, y, cv=kf)\n",
        "knn_score = cross_val_score(knn_pipe, X, y, cv=kf)\n",
        "tree_score = cross_val_score(tree_pipe, X, y, cv=kf)\n",
        "\n",
        "\n",
        "# Imprime el promedio de cada array de puntajes.\n",
        "print(\"Logistic Regression:\", np.mean(logit_score), \"K-Vecinos:\", np.mean(knn_score), \"Decision Tree:\", np.mean(tree_score))"
      ],
      "metadata": {
        "colab": {
          "base_uri": "https://localhost:8080/"
        },
        "id": "jSbP6cRERfXq",
        "outputId": "12aad2a7-8fba-4a73-b4a9-7c058f442c69"
      },
      "execution_count": null,
      "outputs": [
        {
          "output_type": "stream",
          "name": "stdout",
          "text": [
            "Logistic Regression: 0.7744144144144144 K-Vecinos: 0.7677477477477478 Decision Tree: 0.6996036036036035\n"
          ]
        }
      ]
    },
    {
      "cell_type": "markdown",
      "source": [
        "# Elección del modelo"
      ],
      "metadata": {
        "id": "7hYJKjvIiLBL"
      }
    },
    {
      "cell_type": "markdown",
      "source": [
        "Se selecciona el modelo de Regresión Logistica ya que aunque es el que menor valor da en el rendimiento del conjunto de **entrenamiento (77.54%)** y **prueba (77.54%)**, es el modelo que se muetra más balanceado en la variable objetivo y tiene una **exactitud de 0.78**, la cual es buena comparada con los otros modelos. Y finalmente, al hacer el cross-validation media se puede concluir que el modelo es alrededor del 77.4% de precision en promedio."
      ],
      "metadata": {
        "id": "W_oiFUpxq8Ij"
      }
    },
    {
      "cell_type": "markdown",
      "source": [
        "# Comparación\n",
        "*   El modelo de **k-vecinos** tiene un rendimiento del conjunto de **entrenamiento (77.89%)**  y  **prueba (77.54%)** similar al del modelo de Regresión Logistica y **exactitud de 0.79**, al validar la precisión se ve un desbalance en la variable objetivo.\n",
        "*   En el modelo **árbol de decisión** se observa que el rendimiento del conjunto de **entrenamiento (94.11%)**  y  **prueba (71.45%)** es mayor que en los otros modelos, sin embargo, la **exactitud en comparación es menor (0.72)** y el desbalance en la variable objetivo también es un factor de descarte."
      ],
      "metadata": {
        "id": "5iY4NJrOsWo0"
      }
    }
  ]
}